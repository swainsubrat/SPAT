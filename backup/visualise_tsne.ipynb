{
 "cells": [
  {
   "cell_type": "code",
   "execution_count": 12,
   "metadata": {},
   "outputs": [
    {
     "name": "stdout",
     "output_type": "stream",
     "text": [
      "Files already downloaded and verified\n",
      "Files already downloaded and verified\n",
      "Loaded cifar 10 dataloader\n"
     ]
    }
   ],
   "source": [
    "import torch\n",
    "import pandas as pd\n",
    "import plotly.express as px\n",
    "\n",
    "# device = torch.device(\"cuda\") if torch.cuda.is_available() else torch.device(\"cpu\")\n",
    "device = torch.device(\"mps\")\n",
    "\n",
    "from sklearn.manifold import TSNE\n",
    "from dataloader import load_cifar\n",
    "from models.autoencoder import CIFAR10Autoencoder\n",
    "\n",
    "model = CIFAR10Autoencoder.load_from_checkpoint(\"./lightning_logs/cifar10_ae_mse/checkpoints/epoch=199-step=35000.ckpt\")\n",
    "model.eval()\n",
    "\n",
    "_, _, test_dataloader = load_cifar(batch_size=1)\n",
    "images, labels = next(iter(test_dataloader))\n",
    "print(\"Loaded cifar 10 dataloader\")"
   ]
  },
  {
   "cell_type": "code",
   "execution_count": 15,
   "metadata": {},
   "outputs": [],
   "source": [
    "encoded_samples = []\n",
    "model = model.to(device)\n",
    "for i, (image, label) in enumerate(test_dataloader):\n",
    "    image = image.to(device)\n",
    "    label = label.item()\n",
    "\n",
    "    z = model.get_z(image)\n",
    "    encoded_img = z.flatten().detach().cpu().numpy()\n",
    "    encoded_sample = {f\"Enc. Variable {i}\": enc for i, enc in enumerate(encoded_img)}\n",
    "    encoded_sample['label'] = label\n",
    "    encoded_samples.append(encoded_sample)\n",
    "\n",
    "    # if i == 1000:\n",
    "    #     break"
   ]
  },
  {
   "cell_type": "code",
   "execution_count": 16,
   "metadata": {},
   "outputs": [
    {
     "name": "stderr",
     "output_type": "stream",
     "text": [
      "/Users/swainsubrat/anaconda3/envs/py38/lib/python3.8/site-packages/sklearn/manifold/_t_sne.py:780: FutureWarning:\n",
      "\n",
      "The default initialization in TSNE will change from 'random' to 'pca' in 1.2.\n",
      "\n",
      "/Users/swainsubrat/anaconda3/envs/py38/lib/python3.8/site-packages/sklearn/manifold/_t_sne.py:790: FutureWarning:\n",
      "\n",
      "The default learning rate in TSNE will change from 200.0 to 'auto' in 1.2.\n",
      "\n"
     ]
    }
   ],
   "source": [
    "encoded_samples = pd.DataFrame(encoded_samples)\n",
    "# print(encoded_samples)\n",
    "tsne = TSNE(n_components=2)\n",
    "tsne_results = tsne.fit_transform(encoded_samples.drop(['label'],axis=1))\n",
    "fig = px.scatter(tsne_results, x=0, y=1,\n",
    "                    color=encoded_samples.label.astype(str),\n",
    "                    color_discrete_map={\"0\":\"red\", \"1\":\"blue\", \"2\":\"yellow\", \"3\":\"gray\", \"4\":\"brown\", \"5\":\"aqua\", \"6\":\"maroon\", \"7\":\"purple\", \"8\":\"teal\", \"9\":\"lime\"},\n",
    "                    labels={'0': 'dimension-1', '1': 'dimension-2'})\n",
    "fig.write_image(\"img/tsne_new_normal.png\")\n",
    "# fig.show()"
   ]
  },
  {
   "cell_type": "code",
   "execution_count": null,
   "metadata": {},
   "outputs": [],
   "source": []
  }
 ],
 "metadata": {
  "kernelspec": {
   "display_name": "Python 3.8.15 ('py38')",
   "language": "python",
   "name": "python3"
  },
  "language_info": {
   "codemirror_mode": {
    "name": "ipython",
    "version": 3
   },
   "file_extension": ".py",
   "mimetype": "text/x-python",
   "name": "python",
   "nbconvert_exporter": "python",
   "pygments_lexer": "ipython3",
   "version": "3.8.15"
  },
  "orig_nbformat": 4,
  "vscode": {
   "interpreter": {
    "hash": "b39706cd669bce428b01e7d8e16fbcdbe71050c908092321457055cd8ee4a18a"
   }
  }
 },
 "nbformat": 4,
 "nbformat_minor": 2
}
