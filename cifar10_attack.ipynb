{
 "cells": [
  {
   "cell_type": "markdown",
   "metadata": {},
   "source": [
    "#### CIFAR10 Attack Notebook"
   ]
  },
  {
   "cell_type": "code",
   "execution_count": 5,
   "metadata": {},
   "outputs": [],
   "source": [
    "%%capture installation\n",
    "import os\n",
    "import pickle\n",
    "import argparse\n",
    "import datetime\n",
    "\n",
    "import numpy as np\n",
    "import matplotlib.pyplot as plt\n",
    "\n",
    "import torch\n",
    "import torch.nn.functional as F\n",
    "import torch.optim as optim\n",
    "import yaml\n",
    "from art.attacks.evasion import DeepFool, FastGradientMethod\n",
    "from art.estimators.classification import PyTorchClassifier\n",
    "\n",
    "device = torch.device(\"cuda\") if torch.cuda.is_available() else torch.device(\"cpu\")\n",
    "\n",
    "from typing import Callable, Tuple, Dict\n",
    "from pathlib import Path\n",
    "import pytorch_lightning as pl\n",
    "from torch import nn\n",
    "\n",
    "from dataloader import load_mnist\n",
    "from models.autoencoder import (ANNAutoencoder, BaseAutoEncoder,\n",
    "                                CelebAAutoencoder, CIFAR10Autoencoder, CIFAR10VAE,\n",
    "                                CIFAR10LightningAutoencoder, CIFAR10NoisyLightningAutoencoder)\n",
    "from models.classifier import (CelebAClassifier, CIFAR10Classifier,\n",
    "                                MNISTClassifier)\n",
    "\n",
    "from attacks import ATTACK_MAPPINGS, FastGradientMethod\n",
    "from attacks.art_attack import execute_attack, get_models, get_xyz, hybridize\n",
    "from attacks.plot_attack import plot_adversarial_images, plot_robust_accuracy\n",
    "from dataloader import DATALOADER_MAPPINGS"
   ]
  },
  {
   "cell_type": "code",
   "execution_count": 18,
   "metadata": {},
   "outputs": [],
   "source": [
    "class Args:\n",
    "    batch_size = 128\n",
    "    dataset_len = 1000\n",
    "    attack_name = \"pgd\"\n",
    "    device  = \"cuda\"\n",
    "    model_name = \"cifar10_cnn_1\"\n",
    "    ae_name = \"cnn_256\"\n",
    "    plot = False\n",
    "    plot_dir = \"./plots\"\n",
    "    # kwargs = {}\n",
    "    # kwargs = {\"eps\": 0.08, \"batch_size\": 64} # fgsm\n",
    "    # kwargs = {\"batch_size\": 32, \"nb_grads\": 5, \"epsilon\": 0.001} # deepfool\n",
    "    kwargs = {\"eps\": 0.1, \"batch_size\": 128} # pgd and bim\n",
    "    # kwargs = {\"batch_size\": 32, \"theta\": 0.3} # jsma\n",
    "    # kwargs = {\"batch_size\": 128, } # cnw\n",
    "    # kwargs = {\"batch_size\": 128, \"targeted\": False} # boundary and elastic and signopt\n",
    "\n",
    "args = Args()"
   ]
  },
  {
   "cell_type": "code",
   "execution_count": 19,
   "metadata": {},
   "outputs": [],
   "source": [
    "%%capture installation\n",
    "attack_name = ATTACK_MAPPINGS.get(args.attack_name)\n",
    "dataset_name = args.model_name.split(\"_\")[0]\n",
    "print(f\"Working on the dataset: {dataset_name}!!!!!\")\n",
    "\n",
    "with open(f\"./configs/{dataset_name}.yml\", \"r\") as f:\n",
    "    config = yaml.safe_load(f)\n",
    "\n",
    "classifier_model, autoencoder_model, config = get_models(args)\n",
    "print(f\"Loaded classifier and autoencoder models in eval mode!!!!!\")\n",
    "\n",
    "train_dataloader = DATALOADER_MAPPINGS[config[\"dataset_name\"]](batch_size=args.batch_size)\n",
    "print(f\"Loaded dataloader!!!!!\")"
   ]
  },
  {
   "cell_type": "code",
   "execution_count": 20,
   "metadata": {},
   "outputs": [
    {
     "name": "stderr",
     "output_type": "stream",
     "text": [
      "                                                            "
     ]
    },
    {
     "name": "stdout",
     "output_type": "stream",
     "text": [
      "Accuracy on benign test examples: 100.0%\n",
      "Accuracy on benign test examples(from reconstructed): 94.53125%\n",
      "Robust accuracy of original adversarial attack: 62.5%\n",
      "Robust accuracy of modified adversarial attack: 31.58482142857143%\n",
      "Robust accuracy of reconstructed adversarial attack: 3.90625%\n",
      "Time taken for original attack: 31.76037311553955 seconds\n",
      "Time taken for modified attack: 75.8830041885376 seconds\n"
     ]
    },
    {
     "name": "stderr",
     "output_type": "stream",
     "text": [
      "\r"
     ]
    }
   ],
   "source": [
    "result = {attack_name.__name__: {}}\n",
    "xs, ys = [], []\n",
    "cas, ras = [], []\n",
    "x_adv, x_adv_acc, delta_x = [], [], []\n",
    "modf_x_adv, modf_x_adv_acc = [], []\n",
    "z_adv, x_hat_adv, x_hat_adv_acc, delta_x_hat = [], [], [], []\n",
    "orig_time, modf_time = [], []\n",
    "\n",
    "for i in range(args.dataset_len // args.batch_size):\n",
    "    x, y, z = get_xyz(args, autoencoder_model, train_dataloader)\n",
    "\n",
    "    config[\"latent_shape\"] = (int(args.ae_name.split('_')[-1]), )\n",
    "    classifier, hybrid_classifier, ca, ra = hybridize(x, y, z, \n",
    "                                                        config, classifier_model, autoencoder_model)\n",
    "    xs.append(x[0])\n",
    "    for ele in y[1]:\n",
    "        ys.append(ele)\n",
    "    cas.append(ca)\n",
    "    ras.append(ra)\n",
    "    # Perform attack\n",
    "    conditionals = {\n",
    "        \"calculate_original\": True,\n",
    "        \"is_class_constrained\": False\n",
    "    }\n",
    "    results: Dict = execute_attack(config, attack_name, x, y, z, classifier, hybrid_classifier, autoencoder_model, args.kwargs, conditionals)[attack_name.__name__]\n",
    "    # results = result[attack_name.__name__]\n",
    "    x_adv.append(results[\"x_adv\"])\n",
    "    x_adv_acc.append(results[\"x_adv_acc\"])\n",
    "    delta_x.append(results[\"delta_x\"])\n",
    "    modf_x_adv.append(results[\"modf_x_adv\"])\n",
    "    modf_x_adv_acc.append(results[\"modf_x_adv_acc\"])\n",
    "    z_adv.append(results[\"z_adv\"])\n",
    "    x_hat_adv.append(results[\"x_hat_adv\"])\n",
    "    x_hat_adv_acc.append(results[\"x_hat_adv_acc\"])\n",
    "    delta_x_hat.append(results[\"delta_x_hat\"])\n",
    "\n",
    "    orig_time.append(results[\"orig_time\"])\n",
    "    modf_time.append(results[\"modf_time\"])\n",
    "\n",
    "print(\"Accuracy on benign test examples: {}%\".format((sum(cas)/len(cas)) * 100))\n",
    "print(\"Accuracy on benign test examples(from reconstructed): {}%\".format((sum(ras)/len(ras)) * 100))\n",
    "\n",
    "result[attack_name.__name__][\"x_adv\"] = np.vstack(x_adv)\n",
    "result[attack_name.__name__][\"x_adv_acc\"] = sum(x_adv_acc) / len(x_adv_acc)\n",
    "result[attack_name.__name__][\"delta_x\"] = np.vstack(delta_x)\n",
    "\n",
    "result[attack_name.__name__][\"modf_x_adv\"] = np.vstack(modf_x_adv)\n",
    "result[attack_name.__name__][\"modf_x_adv_acc\"] = sum(modf_x_adv_acc) / len(modf_x_adv_acc)\n",
    "result[attack_name.__name__][\"z_adv\"] = np.vstack(z_adv)\n",
    "result[attack_name.__name__][\"x_hat_adv\"] = np.vstack(x_hat_adv)\n",
    "result[attack_name.__name__][\"x_hat_adv_acc\"] = sum(x_hat_adv_acc) / len(x_hat_adv_acc)\n",
    "result[attack_name.__name__][\"delta_x_hat\"] = np.vstack(delta_x_hat)\n",
    "xs = torch.vstack(xs)\n",
    "ys = np.array(ys)\n",
    "\n",
    "print(\"Robust accuracy of original adversarial attack: {}%\".format(result[attack_name.__name__][\"x_adv_acc\"] * 100))\n",
    "print(\"Robust accuracy of modified adversarial attack: {}%\".format(result[attack_name.__name__][\"modf_x_adv_acc\"] * 100))\n",
    "print(\"Robust accuracy of reconstructed adversarial attack: {}%\".format(result[attack_name.__name__][\"x_hat_adv_acc\"] * 100))\n",
    "\n",
    "print(f\"Time taken for original attack: {sum(orig_time)} seconds\")\n",
    "print(f\"Time taken for modified attack: {sum(modf_time)} seconds\")"
   ]
  },
  {
   "cell_type": "code",
   "execution_count": 35,
   "metadata": {},
   "outputs": [],
   "source": [
    "if conditionals[\"calculate_original\"]:\n",
    "    x_adv = result[attack_name.__name__][\"x_adv\"]\n",
    "    delta_x = result[attack_name.__name__][\"delta_x\"]\n",
    "\n",
    "x_hat_adv  = result[attack_name.__name__][\"x_hat_adv\"]\n",
    "modf_x_adv = result[attack_name.__name__][\"modf_x_adv\"]\n",
    "\n",
    "# noises\n",
    "delta_x_hat = result[attack_name.__name__][\"delta_x_hat\"]\n",
    "\n",
    "import torchvision\n",
    "def plot_images(images):\n",
    "    plt.figure(figsize=(20, 2))\n",
    "    images = torch.Tensor(images).reshape(-1, 3, 32, 32)\n",
    "    grid = torchvision.utils.make_grid(images, nrow=10, normalize=True, range=(-1,1))\n",
    "    grid = grid.permute(1, 2, 0)\n",
    "    plt.imshow(grid)\n",
    "    plt.axis('off')\n",
    "    plt.show()\n",
    "\n",
    "def plot_batch(images):\n",
    "    plt.figure(figsize=(20, 12))\n",
    "    images = torch.Tensor(images).reshape(-1, 3, 32, 32)\n",
    "    grid = torchvision.utils.make_grid(images, nrow=1, normalize=False, range=(0,1))\n",
    "    grid = grid.permute(1, 2, 0)\n",
    "    plt.imshow(grid)\n",
    "    plt.axis('off')\n",
    "    plt.show()\n",
    "\n",
    "start = 6\n",
    "end   = 7"
   ]
  },
  {
   "cell_type": "code",
   "execution_count": 36,
   "metadata": {},
   "outputs": [
    {
     "name": "stderr",
     "output_type": "stream",
     "text": [
      "Clipping input data to the valid range for imshow with RGB data ([0..1] for floats or [0..255] for integers).\n"
     ]
    },
    {
     "name": "stdout",
     "output_type": "stream",
     "text": [
      "(6, 3, 32, 32)\n"
     ]
    },
    {
     "data": {
      "image/png": "[encoded data removed]",
      "text/plain": [
       "<Figure size 2000x1200 with 1 Axes>"
      ]
     },
     "metadata": {},
     "output_type": "display_data"
    }
   ],
   "source": [
    "images = np.vstack([x[1][start: end], x_adv[start: end], delta_x[start: end], modf_x_adv[start: end], x_hat_adv[start: end], delta_x_hat[start: end]])\n",
    "print(images.shape)\n",
    "plot_batch(images)"
   ]
  },
  {
   "attachments": {},
   "cell_type": "markdown",
   "metadata": {},
   "source": [
    "#### LPIPS Similarity Score"
   ]
  },
  {
   "cell_type": "code",
   "execution_count": 57,
   "metadata": {},
   "outputs": [
    {
     "name": "stdout",
     "output_type": "stream",
     "text": [
      "Setting up [LPIPS] perceptual loss: trunk [alex], v[0.1], spatial [off]\n",
      "Loading model from: /home/harsh/anaconda3/envs/py38/lib/python3.8/site-packages/lpips/weights/v0.1/alex.pth\n",
      "Average LPIPS score of original adversarial attack:  tensor(0.0128, grad_fn=<MeanBackward0>)\n",
      "Average LPIPS score of modifed adversarial attack:  tensor(0.1095, grad_fn=<MeanBackward0>)\n"
     ]
    }
   ],
   "source": [
    "import lpips\n",
    "loss_fn_alex = lpips.LPIPS(net='alex') # best forward scores\n",
    "\n",
    "# LPIPS between original and original attacks\n",
    "import torch\n",
    "img_orig = torch.Tensor(x_adv) # image should be RGB, IMPORTANT: normalized to [-1,1]\n",
    "img_modf = torch.Tensor(x_hat_adv)\n",
    "# img_modf = torch.Tensor(modf_x_adv)\n",
    "img = xs.detach().cpu()\n",
    "\n",
    "orig_lpips = loss_fn_alex(img, img_orig)\n",
    "modf_lpips = loss_fn_alex(img, img_modf)\n",
    "print(\"Average LPIPS score of original adversarial attack: \", orig_lpips.flatten().mean())\n",
    "print(\"Average LPIPS score of modifed adversarial attack: \", modf_lpips.flatten().mean())"
   ]
  },
  {
   "cell_type": "code",
   "execution_count": null,
   "metadata": {},
   "outputs": [],
   "source": [
    "## Harmonic Means\n",
    "orig_acc = result[attack_name.__name__][\"x_adv_acc\"]\n",
    "modf_acc = result[attack_name.__name__][\"x_hat_adv_acc\"]\n",
    "\n",
    "orig_lpips_avg = orig_lpips.flatten().mean()\n",
    "modf_lpips_avg = modf_lpips.flatten().mean()\n",
    "\n",
    "orig_hm = (orig_acc * orig_lpips_avg) / (orig_acc + orig_lpips_avg)\n",
    "modf_hm = (modf_acc * modf_lpips_avg) / (modf_acc + modf_lpips_avg)\n",
    "\n",
    "print(f\"Original HM: {orig_hm}, Modified HM: {modf_hm}\")"
   ]
  },
  {
   "attachments": {},
   "cell_type": "markdown",
   "metadata": {},
   "source": [
    "#### Calculating L2 and Linf Norm"
   ]
  },
  {
   "cell_type": "code",
   "execution_count": null,
   "metadata": {},
   "outputs": [],
   "source": [
    "orig_linf = torch.max(torch.abs(xs - img_orig.to(device)))\n",
    "modf_linf = torch.max(torch.abs(xs - img_modf.to(device)))\n",
    "\n",
    "print(\"Average Linf distance between original and original adversarial images: \", orig_linf.mean())\n",
    "print(\"Average Linf distance between original and modified adversarial images: \", modf_linf.mean())"
   ]
  },
  {
   "cell_type": "code",
   "execution_count": null,
   "metadata": {},
   "outputs": [],
   "source": [
    "orig_l2 = torch.cdist(xs, img_orig.to(device), p=2)\n",
    "modf_l2 = torch.cdist(xs, img_modf.to(device), p=2)\n",
    "print(\"Average L2 distance between original and original adversarial images: \", orig_l2.mean())\n",
    "print(\"Average L2 distance between original and modified adversarial images: \", modf_l2.mean())"
   ]
  },
  {
   "cell_type": "code",
   "execution_count": null,
   "metadata": {},
   "outputs": [],
   "source": [
    "# save adversarial images\n",
    "fileObj = open(f\"./objects/{dataset_name}/{args.attack_name}.pkl\", 'wb')\n",
    "pickle.dump(result, fileObj)\n",
    "fileObj.close()"
   ]
  },
  {
   "cell_type": "code",
   "execution_count": null,
   "metadata": {},
   "outputs": [],
   "source": [
    "if conditionals[\"calculate_original\"]:\n",
    "    plot_images(x_adv[start: end])"
   ]
  },
  {
   "cell_type": "code",
   "execution_count": null,
   "metadata": {},
   "outputs": [],
   "source": [
    "if conditionals[\"calculate_original\"]:\n",
    "    plot_images(delta_x[start: end])"
   ]
  },
  {
   "cell_type": "code",
   "execution_count": null,
   "metadata": {},
   "outputs": [],
   "source": [
    "plot_images(x[1][start: end])"
   ]
  },
  {
   "cell_type": "code",
   "execution_count": null,
   "metadata": {},
   "outputs": [],
   "source": [
    "plot_images(modf_x_adv[start: end])"
   ]
  },
  {
   "cell_type": "code",
   "execution_count": null,
   "metadata": {},
   "outputs": [],
   "source": [
    "plot_images(delta_x_hat[start: end])"
   ]
  },
  {
   "cell_type": "code",
   "execution_count": null,
   "metadata": {},
   "outputs": [],
   "source": [
    "plot_images(x_hat_adv[start: end])"
   ]
  },
  {
   "attachments": {},
   "cell_type": "markdown",
   "metadata": {},
   "source": [
    "#### Robust Bench Benchmarks"
   ]
  },
  {
   "cell_type": "code",
   "execution_count": null,
   "metadata": {},
   "outputs": [],
   "source": [
    "from robustbench.utils import load_model\n",
    "\n",
    "models = [\"Rebuffi2021Fixing_70_16_cutmix_extra\", \"Gowal2021Improving_70_16_ddpm_100m\",\n",
    "          \"Rebuffi2021Fixing_70_16_cutmix_ddpm\", \"Sehwag2021Proxy_ResNest152\"]"
   ]
  },
  {
   "cell_type": "code",
   "execution_count": null,
   "metadata": {},
   "outputs": [],
   "source": [
    "for model in models:\n",
    "    model = load_model(\n",
    "        model_name=model,\n",
    "        dataset=\"cifar10\",\n",
    "        model_dir=\"/home/harsh/scratch/models/\",\n",
    "        threat_model=\"Linf\"\n",
    "    )\n",
    "    criterion = nn.CrossEntropyLoss()\n",
    "    classifier = PyTorchClassifier( \n",
    "        model=model,\n",
    "        clip_values=(0, 1),\n",
    "        loss=criterion,\n",
    "        # optimizer=optimizer,\n",
    "        input_shape=(32, 32),\n",
    "        nb_classes=10,\n",
    "    )\n",
    "\n",
    "    orig_preds = classifier.predict(x_adv)\n",
    "    modf_preds = classifier.predict(x_hat_adv)\n",
    "    orig_acc = np.sum(np.argmax(orig_preds, axis=-1) == ys) / len(ys)\n",
    "    modf_acc = np.sum(np.argmax(modf_preds, axis=-1) == ys) / len(ys)\n",
    "    print(\"Robust original accuracy: \", orig_acc)\n",
    "    print(\"Robust modified accuracy: \", modf_acc)"
   ]
  },
  {
   "attachments": {},
   "cell_type": "markdown",
   "metadata": {},
   "source": [
    "#### Finding Border"
   ]
  },
  {
   "cell_type": "code",
   "execution_count": null,
   "metadata": {},
   "outputs": [],
   "source": [
    "z = autoencoder_model.get_z(x[0][start: end])\n",
    "noisy_z = z + 0.0001\n",
    "x_hat = autoencoder_model.get_x_hat(z)\n",
    "noisy_x_hat = autoencoder_model.get_x_hat(noisy_z)\n",
    "delta = noisy_x_hat - x_hat\n",
    "plot_images(delta.cpu().detach())"
   ]
  },
  {
   "cell_type": "markdown",
   "metadata": {},
   "source": [
    "#### Robustness v/s LPIPS plot"
   ]
  },
  {
   "cell_type": "code",
   "execution_count": 9,
   "metadata": {},
   "outputs": [],
   "source": [
    "import numpy as np\n",
    "import seaborn as sns\n",
    "import matplotlib.pyplot as plt\n",
    "\n",
    "def plot_ra_vs_lpips(ra_orig, ra_modf, lpips_orig, lpips_modf):\n",
    "    sns.set_style(\"darkgrid\")\n",
    "    sns.set_palette(\"bright\")\n",
    "\n",
    "    plt.plot(ra_orig, lpips_orig, marker='o', label=\"PGD\")\n",
    "    plt.plot(ra_modf, lpips_modf, marker='o', label=\"Semantic-PGD\")\n",
    "    plt.legend()\n",
    "    plt.xlabel(\"Robust Accuracy\")\n",
    "    plt.ylabel(\"LPIPS Distance\")\n",
    "    plt.show()"
   ]
  },
  {
   "cell_type": "code",
   "execution_count": 10,
   "metadata": {},
   "outputs": [
    {
     "data": {
      "image/png": "[encoded data removed]",
      "text/plain": [
       "<Figure size 432x288 with 1 Axes>"
      ]
     },
     "metadata": {},
     "output_type": "display_data"
    }
   ],
   "source": [
    "# Deepfool\n",
    "# ra_orig = np.array([0.3437, 0.1875, 0.1015, 0.0468])\n",
    "# ra_modf = np.array([0.0390, 0.0312, 0.0312, 0.0312])\n",
    "\n",
    "# lpips_orig = np.array([0.2849, 0.2157, 0.1824, 0.1534])\n",
    "# lpips_modf = np.array([0.0124, 0.0097, 0.0094, 0.0092])\n",
    "\n",
    "# PGD\n",
    "ra_orig = np.array([1.0000, 0.6250, 0.1796, 0.0312])\n",
    "ra_modf = np.array([0.7421, 0.0312, 0.0234, 0.0234])\n",
    "\n",
    "lpips_orig = np.array([0.00006, 0.0007, 0.0028, 0.0128])\n",
    "lpips_modf = np.array([0.0080, 0.0226, 0.0547, 0.1095])\n",
    "\n",
    "plot_ra_vs_lpips(ra_orig, ra_modf, lpips_orig, lpips_modf)"
   ]
  },
  {
   "cell_type": "code",
   "execution_count": null,
   "metadata": {},
   "outputs": [],
   "source": []
  }
 ],
 "metadata": {
  "kernelspec": {
   "display_name": "Python 3",
   "language": "python",
   "name": "python3"
  },
  "language_info": {
   "codemirror_mode": {
    "name": "ipython",
    "version": 3
   },
   "file_extension": ".py",
   "mimetype": "text/x-python",
   "name": "python",
   "nbconvert_exporter": "python",
   "pygments_lexer": "ipython3",
   "version": "3.8.0"
  },
  "orig_nbformat": 4,
  "vscode": {
   "interpreter": {
    "hash": "00aac633587f1360e1f47c4e664177479df7da68016053e1dd2bae3421e00d8b"
   }
  }
 },
 "nbformat": 4,
 "nbformat_minor": 2
}
