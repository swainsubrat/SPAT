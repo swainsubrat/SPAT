{
 "cells": [
  {
   "cell_type": "markdown",
   "metadata": {},
   "source": [
    "#### CelebA Attack Notebook"
   ]
  },
  {
   "cell_type": "code",
   "execution_count": 1,
   "metadata": {},
   "outputs": [
    {
     "name": "stderr",
     "output_type": "stream",
     "text": [
      "/Users/swainsubrat/anaconda3/envs/py38/lib/python3.8/site-packages/tqdm/auto.py:22: TqdmWarning: IProgress not found. Please update jupyter and ipywidgets. See https://ipywidgets.readthedocs.io/en/stable/user_install.html\n",
      "  from .autonotebook import tqdm as notebook_tqdm\n"
     ]
    }
   ],
   "source": [
    "\"\"\"\n",
    "The script demonstrates a simple example of using ART with PyTorch. The example train a small model on the MNIST dataset\n",
    "and creates adversarial examples using the Fast Gradient Sign Method. Here we use the ART classifier to train the model,\n",
    "it would also be possible to provide a pretrained model to the ART classifier.\n",
    "The parameters are chosen for reduced computational requirements of the script and not optimised for accuracy.\n",
    "\"\"\"\n",
    "import numpy as np\n",
    "import sys\n",
    "sys.path.append(\"..\")\n",
    "\n",
    "from art.attacks.evasion import FastGradientMethod, DeepFool\n",
    "from art.estimators.classification import PyTorchClassifier\n",
    "\n",
    "import yaml\n",
    "import torch\n",
    "import numpy as np\n",
    "import torch.optim as optim\n",
    "import torch.nn.functional as F\n",
    "import matplotlib.pyplot as plt\n",
    "\n",
    "device = torch.device(\"cuda\") if torch.cuda.is_available() else torch.device(\"cpu\")\n",
    "\n",
    "from torch import nn\n",
    "import pytorch_lightning as pl\n",
    "from dataloader import load_mnist\n",
    "from typing import Tuple, Callable\n",
    "from models.classifier import (MNISTClassifier, CIFAR10Classifier,\n",
    "                                CelebAClassifier)\n",
    "from models.autoencoder import (ANNAutoencoder, BaseAutoEncoder,\n",
    "                                CIFAR10Autoencoder, CelebAAutoencoder)"
   ]
  },
  {
   "cell_type": "code",
   "execution_count": 2,
   "metadata": {},
   "outputs": [],
   "source": [
    "import argparse\n",
    "import datetime\n",
    "import os\n",
    "import warnings\n",
    "from pathlib import Path\n",
    "from typing import Dict\n",
    "\n",
    "import numpy as np\n",
    "import torch\n",
    "import yaml\n",
    "from torch import nn\n",
    "\n",
    "from attacks import ATTACK_MAPPINGS\n",
    "from attacks.art_attack import execute_attack, get_models, get_xyz, hybridize\n",
    "from attacks.plot_attack import plot_adversarial_images, plot_robust_accuracy\n",
    "from dataloader import DATALOADER_MAPPINGS"
   ]
  },
  {
   "cell_type": "code",
   "execution_count": 3,
   "metadata": {},
   "outputs": [],
   "source": [
    "class Args:\n",
    "    batch_size = 32\n",
    "    attack_name = \"deepfool\"\n",
    "    device  = \"cuda\"\n",
    "    model_name = \"celeba_cnn_1\"\n",
    "    ae_name = \"cnn_128\"\n",
    "    plot = False\n",
    "    plot_dir = \"./plots\"\n",
    "\n",
    "args = Args()"
   ]
  },
  {
   "cell_type": "code",
   "execution_count": 4,
   "metadata": {},
   "outputs": [
    {
     "name": "stdout",
     "output_type": "stream",
     "text": [
      "Working on the dataset: celeba!!!!!\n"
     ]
    },
    {
     "name": "stderr",
     "output_type": "stream",
     "text": [
      "/home/sweta/scratch/miniconda3/envs/py38/lib/python3.8/site-packages/torchvision/models/_utils.py:208: UserWarning: The parameter 'pretrained' is deprecated since 0.13 and will be removed in 0.15, please use 'weights' instead.\n",
      "  warnings.warn(\n",
      "/home/sweta/scratch/miniconda3/envs/py38/lib/python3.8/site-packages/torchvision/models/_utils.py:223: UserWarning: Arguments other than a weight enum or `None` for 'weights' are deprecated since 0.13 and will be removed in 0.15. The current behavior is equivalent to passing `weights=ResNet101_Weights.IMAGENET1K_V1`. You can also use `weights=ResNet101_Weights.DEFAULT` to get the most up-to-date weights.\n",
      "  warnings.warn(msg)\n"
     ]
    },
    {
     "name": "stdout",
     "output_type": "stream",
     "text": [
      "Loaded classifier and autoencoder models in eval mode!!!!!\n",
      "Loaded dataloader!!!!!\n"
     ]
    }
   ],
   "source": [
    "attack_name = ATTACK_MAPPINGS.get(args.attack_name)\n",
    "dataset_name = args.model_name.split(\"_\")[0]\n",
    "print(f\"Working on the dataset: {dataset_name}!!!!!\")\n",
    "\n",
    "with open(f\"./configs/{dataset_name}.yml\", \"r\") as f:\n",
    "    config = yaml.safe_load(f)\n",
    "\n",
    "classifier_model, autoencoder_model, config = get_models(args)\n",
    "print(f\"Loaded classifier and autoencoder models in eval mode!!!!!\")\n",
    "_, _, test_dataloader = DATALOADER_MAPPINGS[config[\"dataset_name\"]](batch_size=args.batch_size)\n",
    "print(f\"Loaded dataloader!!!!!\") "
   ]
  },
  {
   "cell_type": "code",
   "execution_count": 5,
   "metadata": {},
   "outputs": [],
   "source": [
    "x, y, z = get_xyz(args, autoencoder_model, test_dataloader)\n",
    "# config[\"latent_shape\"] = args.ae_name.split('_')[-1]\n",
    "config[\"latent_shape\"] = (16, 16)"
   ]
  },
  {
   "cell_type": "code",
   "execution_count": 6,
   "metadata": {},
   "outputs": [
    {
     "name": "stdout",
     "output_type": "stream",
     "text": [
      "<class 'numpy.ndarray'> (32, 3, 128, 128)\n",
      "Accuracy on benign test examples: 59.375%\n",
      "(32, 128, 16, 16)\n"
     ]
    },
    {
     "ename": "TypeError",
     "evalue": "forward() missing 1 required positional argument: 'x2'",
     "output_type": "error",
     "traceback": [
      "\u001b[0;31m---------------------------------------------------------------------------\u001b[0m",
      "\u001b[0;31mTypeError\u001b[0m                                 Traceback (most recent call last)",
      "\u001b[1;32m/home/sweta/src/others/Semantic-Preserving-Adversarial-Attack/celeba_attack.ipynb Cell 7\u001b[0m in \u001b[0;36m<cell line: 4>\u001b[0;34m()\u001b[0m\n\u001b[1;32m      <a href='vscode-notebook-cell://ssh-remote%2Buq-cvl/home/sweta/src/others/Semantic-Preserving-Adversarial-Attack/celeba_attack.ipynb#W6sdnNjb2RlLXJlbW90ZQ%3D%3D?line=0'>1</a>\u001b[0m \u001b[39m# x, y, z = get_xyz(args, autoencoder_model, test_dataloader)\u001b[39;00m\n\u001b[1;32m      <a href='vscode-notebook-cell://ssh-remote%2Buq-cvl/home/sweta/src/others/Semantic-Preserving-Adversarial-Attack/celeba_attack.ipynb#W6sdnNjb2RlLXJlbW90ZQ%3D%3D?line=1'>2</a>\u001b[0m     \n\u001b[1;32m      <a href='vscode-notebook-cell://ssh-remote%2Buq-cvl/home/sweta/src/others/Semantic-Preserving-Adversarial-Attack/celeba_attack.ipynb#W6sdnNjb2RlLXJlbW90ZQ%3D%3D?line=2'>3</a>\u001b[0m \u001b[39m# config[\"latent_shape\"] = args.ae_name.split('_')[-1]\u001b[39;00m\n\u001b[0;32m----> <a href='vscode-notebook-cell://ssh-remote%2Buq-cvl/home/sweta/src/others/Semantic-Preserving-Adversarial-Attack/celeba_attack.ipynb#W6sdnNjb2RlLXJlbW90ZQ%3D%3D?line=3'>4</a>\u001b[0m classifier, hybrid_classifier, accuracy \u001b[39m=\u001b[39m hybridize(x, y, z, \n\u001b[1;32m      <a href='vscode-notebook-cell://ssh-remote%2Buq-cvl/home/sweta/src/others/Semantic-Preserving-Adversarial-Attack/celeba_attack.ipynb#W6sdnNjb2RlLXJlbW90ZQ%3D%3D?line=4'>5</a>\u001b[0m                                                     config, classifier_model, autoencoder_model)\n\u001b[1;32m      <a href='vscode-notebook-cell://ssh-remote%2Buq-cvl/home/sweta/src/others/Semantic-Preserving-Adversarial-Attack/celeba_attack.ipynb#W6sdnNjb2RlLXJlbW90ZQ%3D%3D?line=6'>7</a>\u001b[0m \u001b[39m# Perform attack\u001b[39;00m\n\u001b[1;32m      <a href='vscode-notebook-cell://ssh-remote%2Buq-cvl/home/sweta/src/others/Semantic-Preserving-Adversarial-Attack/celeba_attack.ipynb#W6sdnNjb2RlLXJlbW90ZQ%3D%3D?line=7'>8</a>\u001b[0m result: Dict \u001b[39m=\u001b[39m execute_attack(config, attack_name, x, y, z, classifier, hybrid_classifier, autoencoder_model)\n",
      "File \u001b[0;32m~/src/others/Semantic-Preserving-Adversarial-Attack/attacks/art_attack.py:89\u001b[0m, in \u001b[0;36mhybridize\u001b[0;34m(x, y, z, config, classifier_model, autoencoder_model)\u001b[0m\n\u001b[1;32m     86\u001b[0m \u001b[39mprint\u001b[39m(z[\u001b[39m1\u001b[39m]\u001b[39m.\u001b[39mshape)\n\u001b[1;32m     87\u001b[0m \u001b[39m# from torchsummary import summary\u001b[39;00m\n\u001b[1;32m     88\u001b[0m \u001b[39m# summary(hybrid_classifier_model, (128, 16, 16))\u001b[39;00m\n\u001b[0;32m---> 89\u001b[0m predictions \u001b[39m=\u001b[39m hybrid_classifier\u001b[39m.\u001b[39;49mpredict(z[\u001b[39m1\u001b[39;49m])\n\u001b[1;32m     90\u001b[0m accuracy \u001b[39m=\u001b[39m np\u001b[39m.\u001b[39msum(np\u001b[39m.\u001b[39margmax(predictions, \u001b[39m-\u001b[39m\u001b[39m1\u001b[39m) \u001b[39m==\u001b[39m y[\u001b[39m1\u001b[39m])\u001b[39m/\u001b[39m \u001b[39mlen\u001b[39m(y[\u001b[39m1\u001b[39m])\n\u001b[1;32m     91\u001b[0m \u001b[39mprint\u001b[39m(\u001b[39m\"\u001b[39m\u001b[39mAccuracy on benign test examples(from reconstructed): \u001b[39m\u001b[39m{}\u001b[39;00m\u001b[39m%\u001b[39m\u001b[39m\"\u001b[39m\u001b[39m.\u001b[39mformat(accuracy \u001b[39m*\u001b[39m \u001b[39m100\u001b[39m))\n",
      "File \u001b[0;32m~/scratch/miniconda3/envs/py38/lib/python3.8/site-packages/art/estimators/classification/classifier.py:74\u001b[0m, in \u001b[0;36mInputFilter.__init__.<locals>.make_replacement.<locals>.replacement_function\u001b[0;34m(self, *args, **kwargs)\u001b[0m\n\u001b[1;32m     72\u001b[0m \u001b[39mif\u001b[39;00m \u001b[39mlen\u001b[39m(args) \u001b[39m>\u001b[39m \u001b[39m0\u001b[39m:\n\u001b[1;32m     73\u001b[0m     args \u001b[39m=\u001b[39m \u001b[39mtuple\u001b[39m(lst)\n\u001b[0;32m---> 74\u001b[0m \u001b[39mreturn\u001b[39;00m fdict[func_name](\u001b[39mself\u001b[39;49m, \u001b[39m*\u001b[39;49margs, \u001b[39m*\u001b[39;49m\u001b[39m*\u001b[39;49mkwargs)\n",
      "File \u001b[0;32m~/scratch/miniconda3/envs/py38/lib/python3.8/site-packages/art/estimators/classification/pytorch.py:321\u001b[0m, in \u001b[0;36mPyTorchClassifier.predict\u001b[0;34m(self, x, batch_size, training_mode, **kwargs)\u001b[0m\n\u001b[1;32m    315\u001b[0m begin, end \u001b[39m=\u001b[39m (\n\u001b[1;32m    316\u001b[0m     m \u001b[39m*\u001b[39m batch_size,\n\u001b[1;32m    317\u001b[0m     \u001b[39mmin\u001b[39m((m \u001b[39m+\u001b[39m \u001b[39m1\u001b[39m) \u001b[39m*\u001b[39m batch_size, x_preprocessed\u001b[39m.\u001b[39mshape[\u001b[39m0\u001b[39m]),\n\u001b[1;32m    318\u001b[0m )\n\u001b[1;32m    320\u001b[0m \u001b[39mwith\u001b[39;00m torch\u001b[39m.\u001b[39mno_grad():\n\u001b[0;32m--> 321\u001b[0m     model_outputs \u001b[39m=\u001b[39m \u001b[39mself\u001b[39;49m\u001b[39m.\u001b[39;49m_model(torch\u001b[39m.\u001b[39;49mfrom_numpy(x_preprocessed[begin:end])\u001b[39m.\u001b[39;49mto(\u001b[39mself\u001b[39;49m\u001b[39m.\u001b[39;49m_device))\n\u001b[1;32m    322\u001b[0m output \u001b[39m=\u001b[39m model_outputs[\u001b[39m-\u001b[39m\u001b[39m1\u001b[39m]\n\u001b[1;32m    323\u001b[0m output \u001b[39m=\u001b[39m output\u001b[39m.\u001b[39mdetach()\u001b[39m.\u001b[39mcpu()\u001b[39m.\u001b[39mnumpy()\u001b[39m.\u001b[39mastype(np\u001b[39m.\u001b[39mfloat32)\n",
      "File \u001b[0;32m~/scratch/miniconda3/envs/py38/lib/python3.8/site-packages/torch/nn/modules/module.py:1130\u001b[0m, in \u001b[0;36mModule._call_impl\u001b[0;34m(self, *input, **kwargs)\u001b[0m\n\u001b[1;32m   1126\u001b[0m \u001b[39m# If we don't have any hooks, we want to skip the rest of the logic in\u001b[39;00m\n\u001b[1;32m   1127\u001b[0m \u001b[39m# this function, and just call forward.\u001b[39;00m\n\u001b[1;32m   1128\u001b[0m \u001b[39mif\u001b[39;00m \u001b[39mnot\u001b[39;00m (\u001b[39mself\u001b[39m\u001b[39m.\u001b[39m_backward_hooks \u001b[39mor\u001b[39;00m \u001b[39mself\u001b[39m\u001b[39m.\u001b[39m_forward_hooks \u001b[39mor\u001b[39;00m \u001b[39mself\u001b[39m\u001b[39m.\u001b[39m_forward_pre_hooks \u001b[39mor\u001b[39;00m _global_backward_hooks\n\u001b[1;32m   1129\u001b[0m         \u001b[39mor\u001b[39;00m _global_forward_hooks \u001b[39mor\u001b[39;00m _global_forward_pre_hooks):\n\u001b[0;32m-> 1130\u001b[0m     \u001b[39mreturn\u001b[39;00m forward_call(\u001b[39m*\u001b[39;49m\u001b[39minput\u001b[39;49m, \u001b[39m*\u001b[39;49m\u001b[39m*\u001b[39;49mkwargs)\n\u001b[1;32m   1131\u001b[0m \u001b[39m# Do not call functions when jit is used\u001b[39;00m\n\u001b[1;32m   1132\u001b[0m full_backward_hooks, non_full_backward_hooks \u001b[39m=\u001b[39m [], []\n",
      "File \u001b[0;32m~/scratch/miniconda3/envs/py38/lib/python3.8/site-packages/art/estimators/classification/pytorch.py:1124\u001b[0m, in \u001b[0;36mPyTorchClassifier._make_model_wrapper.<locals>.ModelWrapper.forward\u001b[0;34m(self, x)\u001b[0m\n\u001b[1;32m   1122\u001b[0m \u001b[39mif\u001b[39;00m \u001b[39misinstance\u001b[39m(\u001b[39mself\u001b[39m\u001b[39m.\u001b[39m_model, torch\u001b[39m.\u001b[39mnn\u001b[39m.\u001b[39mSequential):\n\u001b[1;32m   1123\u001b[0m     \u001b[39mfor\u001b[39;00m _, module_ \u001b[39min\u001b[39;00m \u001b[39mself\u001b[39m\u001b[39m.\u001b[39m_model\u001b[39m.\u001b[39m_modules\u001b[39m.\u001b[39mitems():\n\u001b[0;32m-> 1124\u001b[0m         x \u001b[39m=\u001b[39m module_(x)\n\u001b[1;32m   1125\u001b[0m         result\u001b[39m.\u001b[39mappend(x)\n\u001b[1;32m   1127\u001b[0m \u001b[39melif\u001b[39;00m \u001b[39misinstance\u001b[39m(\u001b[39mself\u001b[39m\u001b[39m.\u001b[39m_model, torch\u001b[39m.\u001b[39mnn\u001b[39m.\u001b[39mModule):\n",
      "File \u001b[0;32m~/scratch/miniconda3/envs/py38/lib/python3.8/site-packages/torch/nn/modules/module.py:1130\u001b[0m, in \u001b[0;36mModule._call_impl\u001b[0;34m(self, *input, **kwargs)\u001b[0m\n\u001b[1;32m   1126\u001b[0m \u001b[39m# If we don't have any hooks, we want to skip the rest of the logic in\u001b[39;00m\n\u001b[1;32m   1127\u001b[0m \u001b[39m# this function, and just call forward.\u001b[39;00m\n\u001b[1;32m   1128\u001b[0m \u001b[39mif\u001b[39;00m \u001b[39mnot\u001b[39;00m (\u001b[39mself\u001b[39m\u001b[39m.\u001b[39m_backward_hooks \u001b[39mor\u001b[39;00m \u001b[39mself\u001b[39m\u001b[39m.\u001b[39m_forward_hooks \u001b[39mor\u001b[39;00m \u001b[39mself\u001b[39m\u001b[39m.\u001b[39m_forward_pre_hooks \u001b[39mor\u001b[39;00m _global_backward_hooks\n\u001b[1;32m   1129\u001b[0m         \u001b[39mor\u001b[39;00m _global_forward_hooks \u001b[39mor\u001b[39;00m _global_forward_pre_hooks):\n\u001b[0;32m-> 1130\u001b[0m     \u001b[39mreturn\u001b[39;00m forward_call(\u001b[39m*\u001b[39;49m\u001b[39minput\u001b[39;49m, \u001b[39m*\u001b[39;49m\u001b[39m*\u001b[39;49mkwargs)\n\u001b[1;32m   1131\u001b[0m \u001b[39m# Do not call functions when jit is used\u001b[39;00m\n\u001b[1;32m   1132\u001b[0m full_backward_hooks, non_full_backward_hooks \u001b[39m=\u001b[39m [], []\n",
      "File \u001b[0;32m~/scratch/miniconda3/envs/py38/lib/python3.8/site-packages/torch/nn/modules/container.py:139\u001b[0m, in \u001b[0;36mSequential.forward\u001b[0;34m(self, input)\u001b[0m\n\u001b[1;32m    137\u001b[0m \u001b[39mdef\u001b[39;00m \u001b[39mforward\u001b[39m(\u001b[39mself\u001b[39m, \u001b[39minput\u001b[39m):\n\u001b[1;32m    138\u001b[0m     \u001b[39mfor\u001b[39;00m module \u001b[39min\u001b[39;00m \u001b[39mself\u001b[39m:\n\u001b[0;32m--> 139\u001b[0m         \u001b[39minput\u001b[39m \u001b[39m=\u001b[39m module(\u001b[39minput\u001b[39;49m)\n\u001b[1;32m    140\u001b[0m     \u001b[39mreturn\u001b[39;00m \u001b[39minput\u001b[39m\n",
      "File \u001b[0;32m~/scratch/miniconda3/envs/py38/lib/python3.8/site-packages/torch/nn/modules/module.py:1130\u001b[0m, in \u001b[0;36mModule._call_impl\u001b[0;34m(self, *input, **kwargs)\u001b[0m\n\u001b[1;32m   1126\u001b[0m \u001b[39m# If we don't have any hooks, we want to skip the rest of the logic in\u001b[39;00m\n\u001b[1;32m   1127\u001b[0m \u001b[39m# this function, and just call forward.\u001b[39;00m\n\u001b[1;32m   1128\u001b[0m \u001b[39mif\u001b[39;00m \u001b[39mnot\u001b[39;00m (\u001b[39mself\u001b[39m\u001b[39m.\u001b[39m_backward_hooks \u001b[39mor\u001b[39;00m \u001b[39mself\u001b[39m\u001b[39m.\u001b[39m_forward_hooks \u001b[39mor\u001b[39;00m \u001b[39mself\u001b[39m\u001b[39m.\u001b[39m_forward_pre_hooks \u001b[39mor\u001b[39;00m _global_backward_hooks\n\u001b[1;32m   1129\u001b[0m         \u001b[39mor\u001b[39;00m _global_forward_hooks \u001b[39mor\u001b[39;00m _global_forward_pre_hooks):\n\u001b[0;32m-> 1130\u001b[0m     \u001b[39mreturn\u001b[39;00m forward_call(\u001b[39m*\u001b[39;49m\u001b[39minput\u001b[39;49m, \u001b[39m*\u001b[39;49m\u001b[39m*\u001b[39;49mkwargs)\n\u001b[1;32m   1131\u001b[0m \u001b[39m# Do not call functions when jit is used\u001b[39;00m\n\u001b[1;32m   1132\u001b[0m full_backward_hooks, non_full_backward_hooks \u001b[39m=\u001b[39m [], []\n",
      "\u001b[0;31mTypeError\u001b[0m: forward() missing 1 required positional argument: 'x2'"
     ]
    }
   ],
   "source": [
    "# x, y, z = get_xyz(args, autoencoder_model, test_dataloader)\n",
    "    \n",
    "# config[\"latent_shape\"] = args.ae_name.split('_')[-1]\n",
    "classifier, hybrid_classifier, accuracy = hybridize(x, y, z, \n",
    "                                                    config, classifier_model, autoencoder_model)\n",
    "\n",
    "# Perform attack\n",
    "result: Dict = execute_attack(config, attack_name, x, y, z, classifier, hybrid_classifier, autoencoder_model)"
   ]
  },
  {
   "cell_type": "code",
   "execution_count": 22,
   "metadata": {},
   "outputs": [
    {
     "data": {
      "image/png": "[encoded data removed]",
      "text/plain": [
       "<Figure size 1080x1080 with 25 Axes>"
      ]
     },
     "metadata": {},
     "output_type": "display_data"
    }
   ],
   "source": [
    "orig_attk_images = result[\"DeepFool\"][\"x_test_adv_np\"]\n",
    "modf_attk_images = result[\"DeepFool\"][\"xx_test_adv_np\"]\n",
    "hybrid_attk_images = result[\"DeepFool\"][\"hybrid_x_np\"]\n",
    "\n",
    "orig_attk_noise = result[\"DeepFool\"][\"x_test_noise\"]\n",
    "modf_attk_noise = result[\"DeepFool\"][\"xx_test_noise\"]\n",
    "# hybrid_attk_noise = result[\"DeepFool\"][\"hybrid_noise\"]\n",
    "\n",
    "plt.figure(figsize=(15, 15))\n",
    "images = torch.Tensor(orig_attk_images).reshape(-1, 3, 32, 32)\n",
    "i = 1\n",
    "for image in images:\n",
    "    plt.subplot(5, 5, i, xticks=[], yticks=[])\n",
    "    plt.imshow(np.transpose(image, (1, 2, 0)))\n",
    "    i = i + 1\n",
    "\n",
    "    if i == 26:\n",
    "        break\n",
    "\n",
    "plt.show()\n",
    "# plt.savefig(f\"{plot_dir}/{filename}\")"
   ]
  },
  {
   "cell_type": "code",
   "execution_count": 3,
   "metadata": {},
   "outputs": [
    {
     "ename": "UnpicklingError",
     "evalue": "invalid load key, '<'.",
     "output_type": "error",
     "traceback": [
      "\u001b[0;31m---------------------------------------------------------------------------\u001b[0m",
      "\u001b[0;31mUnpicklingError\u001b[0m                           Traceback (most recent call last)",
      "\u001b[1;32m/home/sweta/src/others/Semantic-Preserving-Adversarial-Attack/art_attack.ipynb Cell 7\u001b[0m in \u001b[0;36m<cell line: 12>\u001b[0;34m()\u001b[0m\n\u001b[1;32m     <a href='vscode-notebook-cell://ssh-remote%2Buq-cvl/home/sweta/src/others/Semantic-Preserving-Adversarial-Attack/art_attack.ipynb#X23sdnNjb2RlLXJlbW90ZQ%3D%3D?line=9'>10</a>\u001b[0m num_features \u001b[39m=\u001b[39m model\u001b[39m.\u001b[39mfc\u001b[39m.\u001b[39min_features\n\u001b[1;32m     <a href='vscode-notebook-cell://ssh-remote%2Buq-cvl/home/sweta/src/others/Semantic-Preserving-Adversarial-Attack/art_attack.ipynb#X23sdnNjb2RlLXJlbW90ZQ%3D%3D?line=10'>11</a>\u001b[0m model\u001b[39m.\u001b[39mfc \u001b[39m=\u001b[39m nn\u001b[39m.\u001b[39mLinear(num_features, \u001b[39m2\u001b[39m) \u001b[39m# binary classification (num_of_class == 2)\u001b[39;00m\n\u001b[0;32m---> <a href='vscode-notebook-cell://ssh-remote%2Buq-cvl/home/sweta/src/others/Semantic-Preserving-Adversarial-Attack/art_attack.ipynb#X23sdnNjb2RlLXJlbW90ZQ%3D%3D?line=11'>12</a>\u001b[0m model\u001b[39m.\u001b[39mload_state_dict(torch\u001b[39m.\u001b[39;49mload(save_path))\n\u001b[1;32m     <a href='vscode-notebook-cell://ssh-remote%2Buq-cvl/home/sweta/src/others/Semantic-Preserving-Adversarial-Attack/art_attack.ipynb#X23sdnNjb2RlLXJlbW90ZQ%3D%3D?line=12'>13</a>\u001b[0m model\u001b[39m.\u001b[39mto(device)\n",
      "File \u001b[0;32m~/scratch/miniconda3/envs/py38/lib/python3.8/site-packages/torch/serialization.py:713\u001b[0m, in \u001b[0;36mload\u001b[0;34m(f, map_location, pickle_module, **pickle_load_args)\u001b[0m\n\u001b[1;32m    711\u001b[0m             \u001b[39mreturn\u001b[39;00m torch\u001b[39m.\u001b[39mjit\u001b[39m.\u001b[39mload(opened_file)\n\u001b[1;32m    712\u001b[0m         \u001b[39mreturn\u001b[39;00m _load(opened_zipfile, map_location, pickle_module, \u001b[39m*\u001b[39m\u001b[39m*\u001b[39mpickle_load_args)\n\u001b[0;32m--> 713\u001b[0m \u001b[39mreturn\u001b[39;00m _legacy_load(opened_file, map_location, pickle_module, \u001b[39m*\u001b[39;49m\u001b[39m*\u001b[39;49mpickle_load_args)\n",
      "File \u001b[0;32m~/scratch/miniconda3/envs/py38/lib/python3.8/site-packages/torch/serialization.py:920\u001b[0m, in \u001b[0;36m_legacy_load\u001b[0;34m(f, map_location, pickle_module, **pickle_load_args)\u001b[0m\n\u001b[1;32m    914\u001b[0m \u001b[39mif\u001b[39;00m \u001b[39mnot\u001b[39;00m \u001b[39mhasattr\u001b[39m(f, \u001b[39m'\u001b[39m\u001b[39mreadinto\u001b[39m\u001b[39m'\u001b[39m) \u001b[39mand\u001b[39;00m (\u001b[39m3\u001b[39m, \u001b[39m8\u001b[39m, \u001b[39m0\u001b[39m) \u001b[39m<\u001b[39m\u001b[39m=\u001b[39m sys\u001b[39m.\u001b[39mversion_info \u001b[39m<\u001b[39m (\u001b[39m3\u001b[39m, \u001b[39m8\u001b[39m, \u001b[39m2\u001b[39m):\n\u001b[1;32m    915\u001b[0m     \u001b[39mraise\u001b[39;00m \u001b[39mRuntimeError\u001b[39;00m(\n\u001b[1;32m    916\u001b[0m         \u001b[39m\"\u001b[39m\u001b[39mtorch.load does not work with file-like objects that do not implement readinto on Python 3.8.0 and 3.8.1. \u001b[39m\u001b[39m\"\u001b[39m\n\u001b[1;32m    917\u001b[0m         \u001b[39mf\u001b[39m\u001b[39m\"\u001b[39m\u001b[39mReceived object of type \u001b[39m\u001b[39m\\\"\u001b[39;00m\u001b[39m{\u001b[39;00m\u001b[39mtype\u001b[39m(f)\u001b[39m}\u001b[39;00m\u001b[39m\\\"\u001b[39;00m\u001b[39m. Please update to Python 3.8.2 or newer to restore this \u001b[39m\u001b[39m\"\u001b[39m\n\u001b[1;32m    918\u001b[0m         \u001b[39m\"\u001b[39m\u001b[39mfunctionality.\u001b[39m\u001b[39m\"\u001b[39m)\n\u001b[0;32m--> 920\u001b[0m magic_number \u001b[39m=\u001b[39m pickle_module\u001b[39m.\u001b[39;49mload(f, \u001b[39m*\u001b[39;49m\u001b[39m*\u001b[39;49mpickle_load_args)\n\u001b[1;32m    921\u001b[0m \u001b[39mif\u001b[39;00m magic_number \u001b[39m!=\u001b[39m MAGIC_NUMBER:\n\u001b[1;32m    922\u001b[0m     \u001b[39mraise\u001b[39;00m \u001b[39mRuntimeError\u001b[39;00m(\u001b[39m\"\u001b[39m\u001b[39mInvalid magic number; corrupt file?\u001b[39m\u001b[39m\"\u001b[39m)\n",
      "\u001b[0;31mUnpicklingError\u001b[0m: invalid load key, '<'."
     ]
    }
   ],
   "source": [
    "import torch\n",
    "import torch.nn as nn\n",
    "import torch.optim as optim\n",
    "\n",
    "from torchvision import models\n",
    "\n",
    "save_path = './lightning_logs/face_gender_classification_transfer_learning_with_ResNet18.pth'\n",
    "\n",
    "model = models.resnet18(pretrained=True)\n",
    "num_features = model.fc.in_features\n",
    "model.fc = nn.Linear(num_features, 2) # binary classification (num_of_class == 2)\n",
    "model.load_state_dict(torch.load(save_path))\n",
    "model.to(device)"
   ]
  },
  {
   "cell_type": "code",
   "execution_count": null,
   "metadata": {},
   "outputs": [
    {
     "ename": "",
     "evalue": "",
     "output_type": "error",
     "traceback": [
      "\u001b[1;31mFailed to start the Kernel. \n",
      "\u001b[1;31mView Jupyter <a href='command:jupyter.viewOutput'>log</a> for further details."
     ]
    }
   ],
   "source": [
    "# Step 0: load the config\n",
    "with open(\"./configs/mnist.yml\", \"r\") as f:\n",
    "    config = yaml.safe_load(f)\n",
    "\n",
    "ROOT             = config[\"paths\"][\"root\"]\n",
    "AUTOENCODER_PATH = config[\"paths\"][\"autoencoder-path\"]\n",
    "CLASSIFIER_PATH  = config[\"paths\"][\"classifier-path\"]\n",
    "BOUNDS           = (config[\"specs\"][\"bounds\"][0], config[\"specs\"][\"bounds\"][1])\n",
    "PLOT             = config[\"specs\"][\"plot\"]\n",
    "BATCH_SIZE       = config[\"specs\"][\"batch_size\"]\n",
    "RESHAPE          = (config[\"specs\"][\"reshape\"][0], config[\"specs\"][\"reshape\"][1])\n",
    "LOAD_FUNCTION    = load_mnist"
   ]
  },
  {
   "cell_type": "code",
   "execution_count": 107,
   "metadata": {},
   "outputs": [
    {
     "name": "stderr",
     "output_type": "stream",
     "text": [
      "GPU available: True, used: True\n",
      "TPU available: False, using: 0 TPU cores\n",
      "IPU available: False, using: 0 IPUs\n",
      "HPU available: False, using: 0 HPUs\n",
      "LOCAL_RANK: 0 - CUDA_VISIBLE_DEVICES: [0,1,2,3,4,5,6,7]\n"
     ]
    },
    {
     "name": "stdout",
     "output_type": "stream",
     "text": [
      "Testing DataLoader 0: 100%|██████████| 10/10 [00:00<00:00, 16.82it/s]\n",
      "Accuracy on benign test examples: 98.00999760627747%\n"
     ]
    }
   ],
   "source": [
    "# Step 1: Load the model(trained)\n",
    "mnist_classifier  = MNISTClassifier.load_from_checkpoint(CLASSIFIER_PATH).to(device)\n",
    "mnist_classifier.eval()\n",
    "\n",
    "# Step 2: Load the dataset\n",
    "_, _, test_dataloader = LOAD_FUNCTION(batch_size=1000, root=ROOT)\n",
    "x_test, y_test = next(iter(test_dataloader))\n",
    "x_test_np, y_test_np = x_test.numpy(), y_test.numpy()\n",
    "x_test, y_test = x_test.to(device), y_test.to(device)\n",
    "\n",
    "# Step 2a: Predict with benign samples\n",
    "trainer = pl.Trainer(max_epochs=10, gpus=1, default_root_dir=\"..\")\n",
    "p = trainer.test(mnist_classifier, dataloaders=test_dataloader, verbose=False)\n",
    "print(\"Accuracy on benign test examples: {}%\".format(p[0][\"test_acc\"] * 100))"
   ]
  },
  {
   "cell_type": "code",
   "execution_count": 108,
   "metadata": {},
   "outputs": [],
   "source": [
    "#@title ## Making Hybrid Models\n",
    "mnist_autoencoder = ANNAutoencoder.load_from_checkpoint(AUTOENCODER_PATH).to(device)\n",
    "mnist_autoencoder.eval()\n",
    "\n",
    "hybrid_classifier = nn.Sequential(\n",
    "        mnist_autoencoder.decoder,\n",
    "        mnist_classifier.model\n",
    "    )\n",
    "z_test = mnist_autoencoder.get_z(x_test)\n",
    "z_test_np = z_test.detach().cpu().numpy()"
   ]
  },
  {
   "cell_type": "code",
   "execution_count": 109,
   "metadata": {},
   "outputs": [],
   "source": [
    "# Step 3: Define the loss function and the optimizer\n",
    "criterion = nn.CrossEntropyLoss()\n",
    "# optimizer = optim.Adam(mnist_classifier.parameters(), lr=0.01)\n",
    "\n",
    "# Step 4: Create the ART classifier\n",
    "classifier = PyTorchClassifier(\n",
    "    model=mnist_classifier,\n",
    "    # clip_values=(min_pixel_value, max_pixel_value),\n",
    "    loss=criterion,\n",
    "    # optimizer=optimizer,\n",
    "    input_shape=(1, 784),\n",
    "    nb_classes=10,\n",
    ")\n",
    "\n",
    "# # Step 4a: Train the ART classifier\n",
    "# # classifier.fit(x_train, y_train, batch_size=64, nb_epochs=3)"
   ]
  },
  {
   "cell_type": "code",
   "execution_count": 110,
   "metadata": {},
   "outputs": [
    {
     "name": "stdout",
     "output_type": "stream",
     "text": [
      "Accuracy on benign test examples: 97.7%\n"
     ]
    },
    {
     "name": "stderr",
     "output_type": "stream",
     "text": [
      "DeepFool: 100%|██████████| 1000/1000 [01:00<00:00, 16.58it/s]"
     ]
    },
    {
     "name": "stdout",
     "output_type": "stream",
     "text": [
      "Accuracy on adversarial test examples: 1.7999999999999998%\n"
     ]
    },
    {
     "name": "stderr",
     "output_type": "stream",
     "text": [
      "\n"
     ]
    }
   ],
   "source": [
    "# Step 5: Evaluate the ART classifier on benign test examples\n",
    "predictions = classifier.predict(x_test_np)\n",
    "accuracy = np.sum(np.argmax(predictions, -1) == y_test_np)/ len(y_test_np)\n",
    "print(\"Accuracy on benign test examples: {}%\".format(accuracy * 100))\n",
    "\n",
    "# Step 6: Generate adversarial test examples\n",
    "attack = DeepFool(classifier)\n",
    "x_test_adv = attack.generate(x=x_test_np)\n",
    "\n",
    "# Step 7: Evaluate the ART classifier on adversarial test examples\n",
    "predictions = classifier.predict(x_test_adv)\n",
    "accuracy = np.sum(np.argmax(predictions, axis=-1) == y_test_np) / len(y_test_np)\n",
    "print(\"Accuracy on adversarial test examples: {}%\".format(accuracy * 100))"
   ]
  },
  {
   "cell_type": "code",
   "execution_count": 111,
   "metadata": {},
   "outputs": [],
   "source": [
    "# Step 3: Define the loss function and the optimizer\n",
    "criterion = nn.CrossEntropyLoss()\n",
    "# optimizer = optim.Adam(mnist_classifier.parameters(), lr=0.01)\n",
    "\n",
    "# Step 4: Create the ART classifier\n",
    "classifier = PyTorchClassifier(\n",
    "    model=hybrid_classifier,\n",
    "    # clip_values=(min_pixel_value, max_pixel_value),\n",
    "    loss=criterion,\n",
    "    # optimizer=optimizer,\n",
    "    input_shape=(1, 128),\n",
    "    nb_classes=10,\n",
    ")\n",
    "\n",
    "# # Step 4a: Train the ART classifier\n",
    "# # classifier.fit(x_train, y_train, batch_size=64, nb_epochs=3)"
   ]
  },
  {
   "cell_type": "code",
   "execution_count": 112,
   "metadata": {},
   "outputs": [
    {
     "name": "stdout",
     "output_type": "stream",
     "text": [
      "Accuracy on benign test examples: 96.7%\n"
     ]
    },
    {
     "name": "stderr",
     "output_type": "stream",
     "text": [
      "DeepFool: 100%|██████████| 1000/1000 [00:59<00:00, 16.79it/s]"
     ]
    },
    {
     "name": "stdout",
     "output_type": "stream",
     "text": [
      "Accuracy on adversarial test examples: 2.8000000000000003%\n",
      "[ True  True  True  True  True  True  True  True  True  True  True  True\n",
      "  True  True  True  True  True  True  True  True  True  True  True  True\n",
      "  True  True  True  True  True  True  True  True  True  True  True  True\n",
      "  True  True  True  True  True  True  True  True  True  True  True  True\n",
      "  True  True  True  True  True  True  True  True  True  True  True  True\n",
      "  True  True  True  True  True  True  True  True  True  True  True  True\n",
      "  True  True  True  True  True  True  True  True  True  True  True  True\n",
      "  True  True  True  True  True  True  True  True  True  True  True  True\n",
      "  True  True  True  True  True  True  True  True False  True  True  True\n",
      "  True  True  True  True  True  True  True False  True  True  True  True\n",
      "  True  True  True  True  True  True  True  True  True  True  True  True\n",
      "  True  True  True  True  True  True  True  True  True  True  True  True\n",
      "  True  True  True  True  True  True  True  True  True  True  True  True\n",
      "  True  True  True  True  True  True  True  True  True  True  True  True\n",
      "  True  True  True  True  True  True  True  True  True  True  True  True\n",
      "  True  True  True  True  True  True  True  True  True  True  True  True\n",
      "  True  True  True  True  True  True  True  True  True  True  True  True\n",
      "  True  True  True  True  True  True  True  True  True  True  True  True\n",
      "  True  True  True  True  True  True  True  True  True  True  True  True\n",
      "  True  True  True  True False  True  True  True  True  True  True  True\n",
      "  True  True  True  True  True  True  True  True  True  True  True  True\n",
      "  True  True  True  True  True  True  True  True  True  True  True  True\n",
      "  True  True  True  True  True  True  True  True  True  True  True  True\n",
      "  True  True  True  True  True  True  True  True  True  True  True  True\n",
      "  True  True  True  True  True  True  True  True  True  True  True  True\n",
      "  True  True  True  True  True  True  True  True  True  True  True  True\n",
      "  True  True  True  True  True  True  True  True  True False  True  True\n",
      "  True  True  True  True  True  True  True  True  True  True  True  True\n",
      "  True  True  True  True  True  True  True  True  True  True  True  True\n",
      "  True  True  True  True  True  True  True  True  True  True  True  True\n",
      "  True  True  True  True  True  True  True False  True  True  True  True\n",
      "  True  True  True  True  True  True  True  True  True False  True  True\n",
      "  True  True  True  True  True  True  True  True  True  True  True  True\n",
      "  True  True  True  True  True  True  True  True  True  True  True  True\n",
      "  True  True  True  True  True  True  True  True  True  True  True  True\n",
      "  True  True  True  True  True  True  True  True  True  True  True  True\n",
      "  True  True  True  True  True  True  True  True  True  True  True  True\n",
      "  True False  True False False  True  True  True  True  True  True  True\n",
      " False  True  True  True  True  True  True  True  True  True  True  True\n",
      "  True  True  True  True  True  True  True  True  True  True  True  True\n",
      "  True  True  True  True  True  True  True  True  True  True  True  True\n",
      "  True  True  True  True  True  True  True  True  True  True  True  True\n",
      "  True  True  True  True  True  True  True  True  True  True  True  True\n",
      "  True  True  True  True  True  True  True  True  True  True  True  True\n",
      "  True  True  True  True  True  True  True  True  True  True  True  True\n",
      "  True  True  True False  True  True  True  True  True  True  True  True\n",
      "  True  True  True  True  True  True  True  True  True  True  True  True\n",
      "  True  True  True  True  True  True  True  True  True  True  True  True\n",
      "  True  True  True  True  True  True  True  True  True  True  True  True\n",
      "  True  True  True  True  True  True  True  True  True  True  True  True\n",
      "  True  True  True  True  True  True  True  True  True  True False  True\n",
      "  True  True  True  True  True  True  True  True  True  True  True  True\n",
      "  True  True  True  True  True  True  True  True  True  True  True  True\n",
      "  True  True  True  True  True  True  True  True  True  True False  True\n",
      "  True  True  True  True  True  True  True  True  True  True  True False\n",
      "  True  True  True  True  True  True  True  True  True  True  True  True\n",
      "  True  True  True  True  True  True  True  True  True  True  True  True\n",
      " False  True  True  True  True  True  True False  True  True  True  True\n",
      "  True  True  True  True  True  True  True  True  True  True  True False\n",
      "  True  True  True  True  True  True  True  True  True  True  True  True\n",
      " False  True  True  True  True  True  True  True  True  True  True  True\n",
      "  True  True  True  True  True  True  True  True False  True  True  True\n",
      "  True  True  True  True  True  True  True  True  True  True  True  True\n",
      "  True  True  True  True False  True  True  True  True  True  True  True\n",
      "  True  True  True  True  True  True  True  True  True  True  True  True\n",
      "  True  True  True  True  True  True  True  True  True  True  True  True\n",
      "  True  True  True  True  True  True  True  True  True  True  True  True\n",
      "  True  True  True  True  True  True  True  True  True  True  True  True\n",
      "  True  True  True  True  True  True  True  True  True  True  True  True\n",
      "  True  True  True  True  True  True  True  True  True  True  True  True\n",
      "  True  True  True  True  True  True  True  True  True  True  True  True\n",
      "  True  True  True  True  True  True  True  True  True  True  True  True\n",
      "  True  True  True  True  True  True  True  True  True  True  True  True\n",
      "  True  True  True  True  True  True False  True  True  True  True  True\n",
      "  True  True  True  True  True  True  True  True  True  True  True  True\n",
      " False  True  True  True  True  True  True  True  True  True  True  True\n",
      "  True  True  True  True  True  True  True  True  True  True  True  True\n",
      " False  True  True  True  True  True  True  True  True  True  True  True\n",
      " False  True  True  True  True  True  True  True  True  True  True False\n",
      "  True  True  True  True  True  True  True  True False False  True  True\n",
      "  True  True  True  True  True False  True  True  True  True  True  True\n",
      "  True  True  True  True  True  True  True  True  True  True  True  True\n",
      "  True  True  True  True  True  True  True  True  True  True  True  True\n",
      "  True  True  True  True]\n"
     ]
    },
    {
     "name": "stderr",
     "output_type": "stream",
     "text": [
      "\n"
     ]
    }
   ],
   "source": [
    "# Step 5: Evaluate the ART classifier on benign test examples\n",
    "predictions = classifier.predict(z_test_np)\n",
    "accuracy = np.sum(np.argmax(predictions, -1) == y_test_np)/ len(y_test_np)\n",
    "print(\"Accuracy on benign test examples: {}%\".format(accuracy * 100))\n",
    "\n",
    "# Step 6: Generate adversarial test examples\n",
    "attack = DeepFool(classifier)\n",
    "z_test_adv_np = attack.generate(x=z_test_np)\n",
    "\n",
    "# Step 7: Evaluate the ART classifier on adversarial test examples\n",
    "predictions = classifier.predict(z_test_adv_np)\n",
    "accuracy = np.sum(np.argmax(predictions, axis=-1) == y_test_np) / len(y_test_np)\n",
    "print(\"Accuracy on adversarial test examples: {}%\".format(accuracy * 100))"
   ]
  },
  {
   "cell_type": "code",
   "execution_count": 113,
   "metadata": {},
   "outputs": [
    {
     "data": {
      "text/plain": [
       "0"
      ]
     },
     "execution_count": 113,
     "metadata": {},
     "output_type": "execute_result"
    },
    {
     "data": {
      "image/png": "[encoded data removed]",
      "text/plain": [
       "<Figure size 432x288 with 1 Axes>"
      ]
     },
     "metadata": {
      "needs_background": "light"
     },
     "output_type": "display_data"
    }
   ],
   "source": [
    "#@title ## Visualise the results\n",
    "z_test_adv = torch.Tensor(z_test_adv_np).to(device)\n",
    "x_test_hat = mnist_autoencoder.get_x_hat(z_test_adv)\n",
    "\n",
    "plt.imshow(x_test_hat[1].detach().cpu().reshape(28, 28))\n",
    "torch.argmax(mnist_classifier(x_test_hat[-2])).item()"
   ]
  },
  {
   "cell_type": "code",
   "execution_count": 115,
   "metadata": {},
   "outputs": [],
   "source": [
    "from utils import save\n",
    "save(path=\"./objects/adv_images_1000_mnist.pkl\", params=x_test_hat)"
   ]
  },
  {
   "cell_type": "code",
   "execution_count": null,
   "metadata": {},
   "outputs": [],
   "source": [
    "import warnings\n",
    "warnings.filterwarnings('ignore')\n",
    "from keras.models import load_model\n",
    "\n",
    "from art import config\n",
    "from art.utils import load_dataset, get_file\n",
    "from art.estimators.classification import KerasClassifier\n",
    "from art.attacks.evasion import FastGradientMethod\n",
    "from art.attacks.evasion import BasicIterativeMethod\n",
    "from art.defences.trainer import AdversarialTrainer\n",
    "\n",
    "import numpy as np\n",
    "\n",
    "%matplotlib inline\n",
    "import matplotlib.pyplot as plt\n",
    "\n",
    "path = get_file('mnist_cnn_robust.h5', extract=False, path=config.ART_DATA_PATH,\n",
    "                url='https://www.dropbox.com/s/yutsncaniiy5uy8/mnist_cnn_robust.h5?dl=1')\n",
    "robust_classifier_model = load_model(path)\n",
    "(x_train, y_train), (x_test, y_test), min_, max_ = load_dataset('mnist')\n",
    "robust_classifier = KerasClassifier(clip_values=(min_, max_), model=robust_classifier_model, use_logits=False)"
   ]
  },
  {
   "cell_type": "code",
   "execution_count": null,
   "metadata": {},
   "outputs": [],
   "source": []
  }
 ],
 "metadata": {
  "kernelspec": {
   "display_name": "py38",
   "language": "python",
   "name": "python3"
  },
  "language_info": {
   "codemirror_mode": {
    "name": "ipython",
    "version": 3
   },
   "file_extension": ".py",
   "mimetype": "text/x-python",
   "name": "python",
   "nbconvert_exporter": "python",
   "pygments_lexer": "ipython3",
   "version": "3.8.0"
  },
  "orig_nbformat": 4,
  "vscode": {
   "interpreter": {
    "hash": "00aac633587f1360e1f47c4e664177479df7da68016053e1dd2bae3421e00d8b"
   }
  }
 },
 "nbformat": 4,
 "nbformat_minor": 2
}
