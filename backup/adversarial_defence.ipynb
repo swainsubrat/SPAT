{
 "cells": [
  {
   "cell_type": "code",
   "execution_count": 1,
   "metadata": {},
   "outputs": [
    {
     "name": "stderr",
     "output_type": "stream",
     "text": [
      "/home/sweta/scratch/miniconda3/envs/py38/lib/python3.8/site-packages/tqdm/auto.py:22: TqdmWarning: IProgress not found. Please update jupyter and ipywidgets. See https://ipywidgets.readthedocs.io/en/stable/user_install.html\n",
      "  from .autonotebook import tqdm as notebook_tqdm\n",
      "2022-09-21 11:34:22.284186: I tensorflow/core/platform/cpu_feature_guard.cc:193] This TensorFlow binary is optimized with oneAPI Deep Neural Network Library (oneDNN) to use the following CPU instructions in performance-critical operations:  AVX2 AVX512F AVX512_VNNI FMA\n",
      "To enable them in other operations, rebuild TensorFlow with the appropriate compiler flags.\n",
      "2022-09-21 11:34:22.416893: I tensorflow/core/util/util.cc:169] oneDNN custom operations are on. You may see slightly different numerical results due to floating-point round-off errors from different computation orders. To turn them off, set the environment variable `TF_ENABLE_ONEDNN_OPTS=0`.\n",
      "2022-09-21 11:34:22.422408: W tensorflow/stream_executor/platform/default/dso_loader.cc:64] Could not load dynamic library 'libcudart.so.11.0'; dlerror: libcudart.so.11.0: cannot open shared object file: No such file or directory\n",
      "2022-09-21 11:34:22.422437: I tensorflow/stream_executor/cuda/cudart_stub.cc:29] Ignore above cudart dlerror if you do not have a GPU set up on your machine.\n",
      "2022-09-21 11:34:22.449984: E tensorflow/stream_executor/cuda/cuda_blas.cc:2981] Unable to register cuBLAS factory: Attempting to register factory for plugin cuBLAS when one has already been registered\n",
      "2022-09-21 11:34:23.405101: W tensorflow/stream_executor/platform/default/dso_loader.cc:64] Could not load dynamic library 'libnvinfer.so.7'; dlerror: libnvinfer.so.7: cannot open shared object file: No such file or directory\n",
      "2022-09-21 11:34:23.405179: W tensorflow/stream_executor/platform/default/dso_loader.cc:64] Could not load dynamic library 'libnvinfer_plugin.so.7'; dlerror: libnvinfer_plugin.so.7: cannot open shared object file: No such file or directory\n",
      "2022-09-21 11:34:23.405185: W tensorflow/compiler/tf2tensorrt/utils/py_utils.cc:38] TF-TRT Warning: Cannot dlopen some TensorRT libraries. If you would like to use Nvidia GPU with TensorRT, please make sure the missing libraries mentioned above are installed properly.\n"
     ]
    }
   ],
   "source": [
    "from art.defences.trainer import (AdversarialTrainerFBFPyTorch,\n",
    "                                AdversarialTrainerMadryPGD,\n",
    "                                AdversarialTrainer)"
   ]
  },
  {
   "cell_type": "code",
   "execution_count": 100,
   "metadata": {},
   "outputs": [
    {
     "name": "stderr",
     "output_type": "stream",
     "text": [
      "GPU available: True, used: True\n",
      "TPU available: False, using: 0 TPU cores\n",
      "IPU available: False, using: 0 IPUs\n",
      "HPU available: False, using: 0 HPUs\n",
      "LOCAL_RANK: 0 - CUDA_VISIBLE_DEVICES: [0,1,2,3,4,5,6,7]\n"
     ]
    },
    {
     "name": "stdout",
     "output_type": "stream",
     "text": [
      "Testing DataLoader 0: 100%|██████████| 10/10 [00:01<00:00,  9.78it/s]\n",
      "[{'test_acc': 0.9800999760627747}]\n"
     ]
    }
   ],
   "source": [
    "\"\"\"\n",
    "MNIST classifier testing\n",
    "\"\"\"\n",
    "import sys\n",
    "sys.path.append(\"..\")\n",
    "\n",
    "from models import MNISTClassifier\n",
    "from dataloader import load_mnist\n",
    "\n",
    "import pytorch_lightning as pl\n",
    "\n",
    "batch_size = 1000\n",
    "train_dataloader, valid_dataloader, test_dataloader = load_mnist(root=\"/home/sweta/scratch/datasets/MNIST/\", batch_size=batch_size)\n",
    "\n",
    "model = MNISTClassifier()\n",
    "trainer = pl.Trainer(max_epochs=10, gpus=1, default_root_dir=\"..\")\n",
    "# trainer.fit(model, train_dataloader)   \n",
    "\n",
    "model = MNISTClassifier.load_from_checkpoint(\"../lightning_logs/version_6/checkpoints/epoch=9-step=9370.ckpt\")\n",
    "model.eval()\n",
    "# preds = trainer.predict(model, dataloaders=test_dataloader, return_predictions=True)\n",
    "# print(len(preds), preds[0].shape)\n",
    "p = trainer.test(model, dataloaders=test_dataloader, verbose=False)\n",
    "print(p)"
   ]
  },
  {
   "cell_type": "code",
   "execution_count": 101,
   "metadata": {},
   "outputs": [
    {
     "name": "stdout",
     "output_type": "stream",
     "text": [
      "Accuracy on benign test examples: 97.7%\n"
     ]
    },
    {
     "name": "stderr",
     "output_type": "stream",
     "text": [
      "                                                              "
     ]
    },
    {
     "name": "stdout",
     "output_type": "stream",
     "text": [
      "Accuracy on adversarial test examples: 1.0999999999999999%\n"
     ]
    },
    {
     "name": "stderr",
     "output_type": "stream",
     "text": [
      "\r"
     ]
    }
   ],
   "source": [
    "import numpy as np\n",
    "\n",
    "from art.attacks.evasion import DeepFool, ProjectedGradientDescentPyTorch\n",
    "from art.estimators.classification import PyTorchClassifier\n",
    "from torch import nn, optim\n",
    "import torch.nn.functional as F\n",
    "\n",
    "model.train()\n",
    "\n",
    "x_test, y_test = next(iter(test_dataloader))\n",
    "x_test, y_test = x_test.to(\"cuda\"), y_test.to(\"cuda\")\n",
    "y_test_one_hot = F.one_hot(y_test, num_classes=10)\n",
    "x_test_np, y_test_np, y_test_one_hot_np = x_test.cpu().numpy(), y_test.cpu().numpy(), y_test_one_hot.cpu().numpy()\n",
    "\n",
    "criterion = nn.CrossEntropyLoss()\n",
    "optimizer = optim.Adam(model.parameters(), lr=0.01)\n",
    "\n",
    "# Step 4: Create the ART classifier\n",
    "classifier = PyTorchClassifier( \n",
    "    model=model,\n",
    "    clip_values=(0,1),\n",
    "    loss=criterion,\n",
    "    optimizer=optimizer,\n",
    "    input_shape=(1, 784),\n",
    "    nb_classes=10,\n",
    ")\n",
    "\n",
    "predictions = classifier.predict(x_test_np)\n",
    "accuracy = np.sum(np.argmax(predictions, axis=-1) == y_test_np) / len(y_test_np)\n",
    "print(\"Accuracy on benign test examples: {}%\".format(accuracy * 100))\n",
    "\n",
    "attack = ProjectedGradientDescentPyTorch(classifier)\n",
    "x_test_adv_np = attack.generate(x=x_test_np)\n",
    "predictions = classifier.predict(x_test_adv_np)\n",
    "accuracy = np.sum(np.argmax(predictions, axis=-1) == y_test_np) / len(y_test_np)\n",
    "print(\"Accuracy on adversarial test examples: {}%\".format(accuracy * 100))"
   ]
  },
  {
   "cell_type": "code",
   "execution_count": 102,
   "metadata": {},
   "outputs": [
    {
     "name": "stderr",
     "output_type": "stream",
     "text": [
      "Precompute adv samples: 100%|██████████| 1/1 [00:00<00:00, 6034.97it/s]\n",
      "Adversarial training epochs: 100%|██████████| 100/100 [00:47<00:00,  2.11it/s]\n"
     ]
    }
   ],
   "source": [
    "from art.data_generators import PyTorchDataGenerator\n",
    "\n",
    "trainer = AdversarialTrainerMadryPGD(classifier)\n",
    "\n",
    "# art_datagen = PyTorchDataGenerator(iterator=test_dataloader, size=len(test_dataloader)*batch_size, batch_size=batch_size)\n",
    "# trainer.fit_generator(art_datagen)\n",
    "\n",
    "trainer.fit(x_test_np, y_test_one_hot_np, nb_epochs=100)"
   ]
  },
  {
   "cell_type": "code",
   "execution_count": 104,
   "metadata": {},
   "outputs": [
    {
     "name": "stdout",
     "output_type": "stream",
     "text": [
      "Accuracy on adversarial test examples: 12.6%\n"
     ]
    }
   ],
   "source": [
    "from art.attacks.evasion import DeepFool, FastGradientMethod\n",
    "\n",
    "attack = FastGradientMethod(classifier)\n",
    "x_test_adv_np = attack.generate(x=x_test_np)\n",
    "predictions = classifier.predict(x_test_adv_np)\n",
    "accuracy = np.sum(np.argmax(predictions, axis=-1) == y_test_np) / len(y_test_np)\n",
    "print(\"Accuracy on adversarial test examples: {}%\".format(accuracy * 100))"
   ]
  },
  {
   "cell_type": "code",
   "execution_count": 18,
   "metadata": {},
   "outputs": [],
   "source": [
    "import numpy as np\n",
    "import torch\n",
    "\n",
    "n = np.arange(36).reshape((1,3,3,4))\n",
    "a = torch.from_numpy(n)\n",
    "perm = torch.LongTensor([0,2,1])"
   ]
  },
  {
   "cell_type": "code",
   "execution_count": null,
   "metadata": {},
   "outputs": [],
   "source": [
    "a[:,:,perm,:]"
   ]
  }
 ],
 "metadata": {
  "kernelspec": {
   "display_name": "Python 3.8.0 64-bit ('py38')",
   "language": "python",
   "name": "python3"
  },
  "language_info": {
   "codemirror_mode": {
    "name": "ipython",
    "version": 3
   },
   "file_extension": ".py",
   "mimetype": "text/x-python",
   "name": "python",
   "nbconvert_exporter": "python",
   "pygments_lexer": "ipython3",
   "version": "3.8.0"
  },
  "orig_nbformat": 4,
  "vscode": {
   "interpreter": {
    "hash": "a2061b166dac01908a0f4a5ba1d22c95daad8f159675dc38080e034f724a8b94"
   }
  }
 },
 "nbformat": 4,
 "nbformat_minor": 2
}
