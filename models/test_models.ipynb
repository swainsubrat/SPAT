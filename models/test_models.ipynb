{
 "cells": [
  {
   "cell_type": "code",
   "execution_count": 2,
   "metadata": {},
   "outputs": [
    {
     "name": "stderr",
     "output_type": "stream",
     "text": [
      "/home/sweta/scratch/miniconda3/envs/py38/lib/python3.8/site-packages/pl_bolts/callbacks/data_monitor.py:20: UnderReviewWarning: The feature warn_missing_pkg is currently marked under review. The compatibility with other Lightning projects is not guaranteed and API may change at any time. The API and functionality may change without warning in future releases. More details: https://lightning-bolts.readthedocs.io/en/latest/stability.html\n",
      "  warn_missing_pkg(\"wandb\")\n",
      "/home/sweta/scratch/miniconda3/envs/py38/lib/python3.8/site-packages/pl_bolts/models/self_supervised/amdim/amdim_module.py:35: UnderReviewWarning: The feature generate_power_seq is currently marked under review. The compatibility with other Lightning projects is not guaranteed and API may change at any time. The API and functionality may change without warning in future releases. More details: https://lightning-bolts.readthedocs.io/en/latest/stability.html\n",
      "  \"lr_options\": generate_power_seq(LEARNING_RATE_CIFAR, 11),\n",
      "/home/sweta/scratch/miniconda3/envs/py38/lib/python3.8/site-packages/pl_bolts/models/self_supervised/amdim/amdim_module.py:93: UnderReviewWarning: The feature FeatureMapContrastiveTask is currently marked under review. The compatibility with other Lightning projects is not guaranteed and API may change at any time. The API and functionality may change without warning in future releases. More details: https://lightning-bolts.readthedocs.io/en/latest/stability.html\n",
      "  contrastive_task: Union[FeatureMapContrastiveTask] = FeatureMapContrastiveTask(\"01, 02, 11\"),\n",
      "/home/sweta/scratch/miniconda3/envs/py38/lib/python3.8/site-packages/pl_bolts/losses/self_supervised_learning.py:234: UnderReviewWarning: The feature AmdimNCELoss is currently marked under review. The compatibility with other Lightning projects is not guaranteed and API may change at any time. The API and functionality may change without warning in future releases. More details: https://lightning-bolts.readthedocs.io/en/latest/stability.html\n",
      "  self.nce_loss = AmdimNCELoss(tclip)\n",
      "/home/sweta/scratch/miniconda3/envs/py38/lib/python3.8/site-packages/pl_bolts/datamodules/experience_source.py:18: UnderReviewWarning: The feature warn_missing_pkg is currently marked under review. The compatibility with other Lightning projects is not guaranteed and API may change at any time. The API and functionality may change without warning in future releases. More details: https://lightning-bolts.readthedocs.io/en/latest/stability.html\n",
      "  warn_missing_pkg(\"gym\")\n"
     ]
    }
   ],
   "source": [
    "import os\n",
    "import sys\n",
    "\n",
    "sys.path.append(\"..\")\n",
    "\n",
    "import warnings\n",
    "warnings.filterwarnings(\"ignore\")\n",
    "\n",
    "import lpips\n",
    "import pytorch_lightning as pl\n",
    "\n",
    "from autoencoder import CIFAR10VAE\n",
    "from utils import visualize_cifar_reconstructions\n",
    "from dataloader import load_cifar, load_celeba, load_fashion_mnist, load_mnist"
   ]
  },
  {
   "cell_type": "markdown",
   "metadata": {},
   "source": [
    "#### Training CIFAR10 Vanilla Autoencoder"
   ]
  },
  {
   "cell_type": "code",
   "execution_count": 3,
   "metadata": {},
   "outputs": [
    {
     "name": "stdout",
     "output_type": "stream",
     "text": [
      "Setting up [LPIPS] perceptual loss: trunk [vgg], v[0.1], spatial [off]\n",
      "Loading model from: /Users/swainsubrat/anaconda3/envs/py38/lib/python3.8/site-packages/lpips/weights/v0.1/vgg.pth\n",
      "Files already downloaded and verified\n",
      "Files already downloaded and verified\n"
     ]
    },
    {
     "name": "stderr",
     "output_type": "stream",
     "text": [
      "GPU available: True (mps), used: True\n",
      "TPU available: False, using: 0 TPU cores\n",
      "IPU available: False, using: 0 IPUs\n",
      "HPU available: False, using: 0 HPUs\n",
      "\n",
      "  | Name    | Type       | Params\n",
      "---------------------------------------\n",
      "0 | encoder | Sequential | 364 K \n",
      "1 | decoder | Sequential | 365 K \n",
      "2 | loss    | LPIPS      | 14.7 M\n",
      "---------------------------------------\n",
      "731 K     Trainable params\n",
      "14.7 M    Non-trainable params\n",
      "15.4 M    Total params\n",
      "61.787    Total estimated model params size (MB)\n"
     ]
    },
    {
     "name": "stdout",
     "output_type": "stream",
     "text": [
      "Sanity Checking: 0it [00:00, ?it/s]"
     ]
    }
   ],
   "source": [
    "loss_fn = lpips.LPIPS(net='vgg')\n",
    "\n",
    "# from torchmetrics.image.lpip import LearnedPerceptualImagePatchSimilarity\n",
    "# loss_fn = LearnedPerceptualImagePatchSimilarity(net_type='vgg', normalize=True)\n",
    "\n",
    "train_dataloader, valid_dataloader, test_dataloader = load_cifar(\n",
    "    root=\"~/scratch/datasets/CIFAR10/\", batch_size=128\n",
    ")\n",
    "\n",
    "model = CIFAR10Autoencoder(perceptual_loss=True, loss=loss_fn)\n",
    "trainer = pl.Trainer(max_epochs=100, accelerator=\"mps\", default_root_dir=\"..\")\n",
    "trainer.fit(model, train_dataloader, valid_dataloader)"
   ]
  },
  {
   "cell_type": "markdown",
   "metadata": {},
   "source": [
    "#### Testing CIFAR10 Vanilla Autoencoder"
   ]
  },
  {
   "cell_type": "code",
   "execution_count": 4,
   "metadata": {},
   "outputs": [
    {
     "name": "stdout",
     "output_type": "stream",
     "text": [
      "Files already downloaded and verified\n",
      "Files already downloaded and verified\n"
     ]
    },
    {
     "data": {
      "image/png": "[encoded data removed]",
      "text/plain": [
       "<Figure size 700x450 with 1 Axes>"
      ]
     },
     "metadata": {},
     "output_type": "display_data"
    }
   ],
   "source": [
    "train_dataloader, valid_dataloader, test_dataloader = load_cifar(\n",
    "    root=\"~/scratch/datasets/CIFAR10/\", batch_size=1\n",
    ")\n",
    "input_imgs, _ = next(iter(test_dataloader))\n",
    "model = CIFAR10Autoencoder.load_from_checkpoint(\"../lightning_logs/version_36/checkpoints/checkpoint.ckpt\")\n",
    "model.eval()\n",
    "reconst_imgs, _ = model(input_imgs)\n",
    "\n",
    "visualize_cifar_reconstructions(input_imgs, reconst_imgs, file_name=\"cifar10_ae_mse\")"
   ]
  },
  {
   "cell_type": "code",
   "execution_count": 8,
   "metadata": {},
   "outputs": [
    {
     "name": "stdout",
     "output_type": "stream",
     "text": [
      "Setting up [LPIPS] perceptual loss: trunk [vgg], v[0.1], spatial [off]\n",
      "Loading model from: /Users/swainsubrat/anaconda3/envs/py38/lib/python3.8/site-packages/lpips/weights/v0.1/vgg.pth\n"
     ]
    },
    {
     "data": {
      "text/plain": [
       "tensor([[[[0.2107]]]], grad_fn=<AddBackward0>)"
      ]
     },
     "execution_count": 8,
     "metadata": {},
     "output_type": "execute_result"
    }
   ],
   "source": [
    "loss_fn = lpips.LPIPS(net='vgg')\n",
    "loss_fn(input_imgs, reconst_imgs)"
   ]
  },
  {
   "cell_type": "markdown",
   "metadata": {},
   "source": [
    "#### Training CIFAR10 VAE"
   ]
  },
  {
   "cell_type": "code",
   "execution_count": 7,
   "metadata": {},
   "outputs": [
    {
     "name": "stdout",
     "output_type": "stream",
     "text": [
      "Files already downloaded and verified\n",
      "Files already downloaded and verified\n"
     ]
    },
    {
     "name": "stderr",
     "output_type": "stream",
     "text": [
      "GPU available: True, used: False\n",
      "TPU available: False, using: 0 TPU cores\n",
      "IPU available: False, using: 0 IPUs\n",
      "HPU available: False, using: 0 HPUs\n"
     ]
    }
   ],
   "source": [
    "from pytorch_lightning.callbacks import LearningRateMonitor, ModelCheckpoint\n",
    "\n",
    "vae = CIFAR10VAE()\n",
    "train_dataloader, valid_dataloader, test_dataloader = load_cifar(\n",
    "    root=\"~/scratch/datasets/CIFAR10/\", batch_size=128\n",
    ")\n",
    "\n",
    "trainer = pl.Trainer(default_root_dir=os.path.join(\"..\", f\"cifar10_vae_256\"), \n",
    "                     accelerator=\"mps\",\n",
    "                     devices=1,\n",
    "                     max_epochs=500, \n",
    "                     callbacks=[ModelCheckpoint(save_weights_only=True),\n",
    "                                LearningRateMonitor(\"epoch\")]\n",
    "                    )"
   ]
  },
  {
   "cell_type": "code",
   "execution_count": 9,
   "metadata": {},
   "outputs": [
    {
     "name": "stdout",
     "output_type": "stream",
     "text": [
      "Unexpected exception formatting exception. Falling back to standard exception\n"
     ]
    },
    {
     "name": "stderr",
     "output_type": "stream",
     "text": [
      "Traceback (most recent call last):\n",
      "  File \"/home/sweta/scratch/miniconda3/envs/py38/lib/python3.8/site-packages/IPython/core/interactiveshell.py\", line 3369, in run_code\n",
      "    exec(code_obj, self.user_global_ns, self.user_ns)\n",
      "  File \"/tmp/ipykernel_25080/3695794138.py\", line 1, in <cell line: 1>\n",
      "    trainer.fit(vae, train_dataloader, valid_dataloader)\n",
      "  File \"/home/sweta/scratch/miniconda3/envs/py38/lib/python3.8/site-packages/pytorch_lightning/trainer/trainer.py\", line 768, in fit\n",
      "    datamodule: An instance of :class:`~pytorch_lightning.core.datamodule.LightningDataModule`.\n",
      "  File \"/home/sweta/scratch/miniconda3/envs/py38/lib/python3.8/site-packages/pytorch_lightning/trainer/trainer.py\", line 721, in _call_and_handle_interrupt\n",
      "    \"`model` must be provided to `trainer.validate()` when it hasn't been passed in a previous run\"\n",
      "  File \"/home/sweta/scratch/miniconda3/envs/py38/lib/python3.8/site-packages/pytorch_lightning/trainer/trainer.py\", line 806, in _fit_impl\n",
      "    # If you supply a datamodule you can't supply test_dataloaders\n",
      "  File \"/home/sweta/scratch/miniconda3/envs/py38/lib/python3.8/site-packages/pytorch_lightning/trainer/trainer.py\", line 1428, in __set_ckpt_path\n",
      "  File \"/home/sweta/scratch/miniconda3/envs/py38/lib/python3.8/site-packages/pytorch_lightning/callbacks/fault_tolerance.py\", line 25, in <module>\n",
      "    from pytorch_lightning.callbacks import Checkpoint\n",
      "ImportError: cannot import name 'Checkpoint' from 'pytorch_lightning.callbacks' (/home/sweta/scratch/miniconda3/envs/py38/lib/python3.8/site-packages/pytorch_lightning/callbacks/__init__.py)\n",
      "\n",
      "During handling of the above exception, another exception occurred:\n",
      "\n",
      "Traceback (most recent call last):\n",
      "  File \"/home/sweta/scratch/miniconda3/envs/py38/lib/python3.8/site-packages/IPython/core/interactiveshell.py\", line 1982, in showtraceback\n",
      "    stb = self.InteractiveTB.structured_traceback(\n",
      "  File \"/home/sweta/scratch/miniconda3/envs/py38/lib/python3.8/site-packages/IPython/core/ultratb.py\", line 1118, in structured_traceback\n",
      "    return FormattedTB.structured_traceback(\n",
      "  File \"/home/sweta/scratch/miniconda3/envs/py38/lib/python3.8/site-packages/IPython/core/ultratb.py\", line 1012, in structured_traceback\n",
      "    return VerboseTB.structured_traceback(\n",
      "  File \"/home/sweta/scratch/miniconda3/envs/py38/lib/python3.8/site-packages/IPython/core/ultratb.py\", line 865, in structured_traceback\n",
      "    formatted_exception = self.format_exception_as_a_whole(etype, evalue, etb, number_of_lines_of_context,\n",
      "  File \"/home/sweta/scratch/miniconda3/envs/py38/lib/python3.8/site-packages/IPython/core/ultratb.py\", line 818, in format_exception_as_a_whole\n",
      "    frames.append(self.format_record(r))\n",
      "  File \"/home/sweta/scratch/miniconda3/envs/py38/lib/python3.8/site-packages/IPython/core/ultratb.py\", line 736, in format_record\n",
      "    result += ''.join(_format_traceback_lines(frame_info.lines, Colors, self.has_colors, lvals))\n",
      "  File \"/home/sweta/scratch/miniconda3/envs/py38/lib/python3.8/site-packages/stack_data/utils.py\", line 145, in cached_property_wrapper\n",
      "    value = obj.__dict__[self.func.__name__] = self.func(obj)\n",
      "  File \"/home/sweta/scratch/miniconda3/envs/py38/lib/python3.8/site-packages/stack_data/core.py\", line 698, in lines\n",
      "    pieces = self.included_pieces\n",
      "  File \"/home/sweta/scratch/miniconda3/envs/py38/lib/python3.8/site-packages/stack_data/utils.py\", line 145, in cached_property_wrapper\n",
      "    value = obj.__dict__[self.func.__name__] = self.func(obj)\n",
      "  File \"/home/sweta/scratch/miniconda3/envs/py38/lib/python3.8/site-packages/stack_data/core.py\", line 649, in included_pieces\n",
      "    pos = scope_pieces.index(self.executing_piece)\n",
      "  File \"/home/sweta/scratch/miniconda3/envs/py38/lib/python3.8/site-packages/stack_data/utils.py\", line 145, in cached_property_wrapper\n",
      "    value = obj.__dict__[self.func.__name__] = self.func(obj)\n",
      "  File \"/home/sweta/scratch/miniconda3/envs/py38/lib/python3.8/site-packages/stack_data/core.py\", line 628, in executing_piece\n",
      "    return only(\n",
      "  File \"/home/sweta/scratch/miniconda3/envs/py38/lib/python3.8/site-packages/executing/executing.py\", line 164, in only\n",
      "    raise NotOneValueFound('Expected one value, found 0')\n",
      "executing.executing.NotOneValueFound: Expected one value, found 0\n"
     ]
    }
   ],
   "source": [
    "trainer.fit(vae, train_dataloader)"
   ]
  },
  {
   "cell_type": "code",
   "execution_count": null,
   "metadata": {},
   "outputs": [],
   "source": [
    "encoder = nn.Sequential(\n",
    "    nn.Conv2d(1, 8, 3, stride=2, padding=1),\n",
    "    nn.ReLU(True),\n",
    "    nn.Conv2d(8, 16, 3, stride=2, padding=1),\n",
    "    nn.BatchNorm2d(16),\n",
    "    nn.ReLU(True),\n",
    "    nn.Conv2d(16, 32, 3, stride=2, padding=0),\n",
    "    nn.ReLU(True),\n",
    "    nn.Flatten(start_dim=1),\n",
    "    nn.Linear(3 * 3 * 32, 128),\n",
    "    nn.ReLU(True),\n",
    "    nn.Linear(128, 64)\n",
    ")\n",
    "decoder = nn.Sequential(\n",
    "    nn.Linear(64, 128),\n",
    "    nn.ReLU(True),\n",
    "    nn.Linear(128, 3 * 3 * 32),\n",
    "    nn.ReLU(True),\n",
    "    nn.Unflatten(dim=1, \n",
    "        unflattened_size=(32, 3, 3)),\n",
    "    nn.ConvTranspose2d(32, 16, 3, \n",
    "        stride=2, output_padding=0),\n",
    "    nn.BatchNorm2d(16),\n",
    "    nn.ReLU(True),\n",
    "    nn.ConvTranspose2d(16, 8, 3, stride=2, \n",
    "        padding=1, output_padding=1),\n",
    "    nn.BatchNorm2d(8),\n",
    "    nn.ReLU(True),\n",
    "    nn.ConvTranspose2d(8, 1, 3, stride=2, \n",
    "        padding=1, output_padding=1)\n",
    ")"
   ]
  },
  {
   "cell_type": "code",
   "execution_count": null,
   "metadata": {},
   "outputs": [],
   "source": []
  }
 ],
 "metadata": {
  "kernelspec": {
   "display_name": "Python 3.8.0 ('py38')",
   "language": "python",
   "name": "python3"
  },
  "language_info": {
   "codemirror_mode": {
    "name": "ipython",
    "version": 3
   },
   "file_extension": ".py",
   "mimetype": "text/x-python",
   "name": "python",
   "nbconvert_exporter": "python",
   "pygments_lexer": "ipython3",
   "version": "3.8.0"
  },
  "orig_nbformat": 4,
  "vscode": {
   "interpreter": {
    "hash": "a2061b166dac01908a0f4a5ba1d22c95daad8f159675dc38080e034f724a8b94"
   }
  }
 },
 "nbformat": 4,
 "nbformat_minor": 2
}
