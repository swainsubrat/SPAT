{
 "cells": [
  {
   "cell_type": "code",
   "execution_count": 85,
   "metadata": {},
   "outputs": [],
   "source": [
    "%%capture installation\n",
    "import matplotlib.pyplot as plt\n",
    "import numpy as np\n",
    "import torch\n",
    "import torch.nn.functional as F\n",
    "import torch.optim as optim\n",
    "import yaml\n",
    "from art.attacks.evasion import DeepFool, FastGradientMethod\n",
    "from art.estimators.classification import PyTorchClassifier\n",
    "\n",
    "from typing import Callable, Tuple, Dict\n",
    "from pathlib import Path\n",
    "import pytorch_lightning as pl\n",
    "from torch import nn\n",
    "\n",
    "from dataloader import load_mnist\n",
    "from models.autoencoder import (ANNAutoencoder, BaseAutoEncoder,\n",
    "                                CelebAAutoencoder, CIFAR10Autoencoder)\n",
    "from models.classifier import (CelebAClassifier, CIFAR10Classifier,\n",
    "                                MNISTClassifier)\n",
    "\n",
    "from attacks import ATTACK_MAPPINGS\n",
    "from attacks.art_attack import execute_attack, get_models, get_xyz, hybridize\n",
    "from attacks.plot_attack import plot_adversarial_images, plot_robust_accuracy\n",
    "from dataloader import DATALOADER_MAPPINGS"
   ]
  },
  {
   "cell_type": "code",
   "execution_count": 101,
   "metadata": {},
   "outputs": [],
   "source": [
    "class Args:\n",
    "    batch_size = 1\n",
    "    device  = \"mps\"\n",
    "    model_name = \"mnist_ann_1\"\n",
    "    ae_name = \"ann_128\"\n",
    "\n",
    "args = Args()"
   ]
  },
  {
   "cell_type": "code",
   "execution_count": 102,
   "metadata": {},
   "outputs": [
    {
     "name": "stdout",
     "output_type": "stream",
     "text": [
      "Working on the dataset: mnist!!!!!\n",
      "Loaded classifier and autoencoder models in eval mode!!!!!\n",
      "Loaded dataloader mnist!!!!!\n"
     ]
    }
   ],
   "source": [
    "dataset_name = args.model_name.split(\"_\")[0]\n",
    "print(f\"Working on the dataset: {dataset_name}!!!!!\")\n",
    "\n",
    "with open(f\"./configs/{dataset_name}.yml\", \"r\") as f:\n",
    "    config = yaml.safe_load(f)\n",
    "\n",
    "classifier_model, autoencoder_model, config = get_models(args)\n",
    "print(f\"Loaded classifier and autoencoder models in eval mode!!!!!\")\n",
    "_, valid_dataloader, _ = DATALOADER_MAPPINGS[config[\"dataset_name\"]](batch_size=args.batch_size)\n",
    "print(f\"Loaded dataloader {config['dataset_name']}!!!!!\") "
   ]
  },
  {
   "cell_type": "code",
   "execution_count": 190,
   "metadata": {},
   "outputs": [],
   "source": [
    "def plot_adversarial_images(images, pgd_adv_images, spgd_adv_images):\n",
    "    plt.figure(figsize=(20, 10))\n",
    "    plt.subplot(1,5,1, xticks=[], yticks=[])\n",
    "    plt.title(\"Original\")\n",
    "    plt.imshow(images[0].cpu().detach().reshape((28, 28)))\n",
    "\n",
    "    plt.subplot(1,5,2, xticks=[], yticks=[])\n",
    "    plt.title(\"PGD\")\n",
    "    plt.imshow(pgd_adv_images[0].cpu().detach().reshape((28, 28)))\n",
    "\n",
    "    pgd_noise = pgd_adv_images[0] - images[0]\n",
    "    plt.subplot(1,5,3, xticks=[], yticks=[])\n",
    "    plt.title(\"PGD Noise\")\n",
    "    plt.imshow(pgd_noise.cpu().detach().reshape((28, 28)))\n",
    "\n",
    "    plt.subplot(1,5,4, xticks=[], yticks=[])\n",
    "    plt.title(\"SemanticPGD\")\n",
    "    plt.imshow(spgd_adv_images[0].cpu().detach().reshape((28, 28)))\n",
    "\n",
    "    spgd_noise = spgd_adv_images[0] - images[0]\n",
    "    plt.subplot(1,5,5, xticks=[], yticks=[])\n",
    "    plt.title(\"SemanticPGD Noise\")\n",
    "    plt.imshow(spgd_noise.cpu().detach().reshape((28, 28)))"
   ]
  },
  {
   "cell_type": "code",
   "execution_count": 207,
   "metadata": {},
   "outputs": [],
   "source": [
    "def pgd_attack(model, images, labels, eps=0.3, alpha=2/255, iters=40) :\n",
    "    images = images.to(args.device)\n",
    "    labels = labels.to(args.device)\n",
    "    loss = nn.CrossEntropyLoss()\n",
    "        \n",
    "    ori_images = images.data\n",
    "        \n",
    "    for i in range(iters) :  \n",
    "        images.requires_grad = True\n",
    "        outputs = model(images)\n",
    "\n",
    "        model.zero_grad()\n",
    "        cost = loss(outputs, labels).to(args.device)\n",
    "        cost.backward()\n",
    "\n",
    "        # Perturb original image\n",
    "        adv_images = images + alpha*images.grad.sign()\n",
    "\n",
    "        eta = torch.clamp(adv_images - ori_images, min=-eps, max=eps)\n",
    "        images = torch.clamp(ori_images + eta, min=0, max=1).detach_()\n",
    "            \n",
    "    return images\n",
    "\n",
    "def semantic_pgd_attack(model, ae_model, images, labels, eps=0.3, alpha=3/255, s_alpha=0.007, iters=40) :\n",
    "    images = images.to(args.device)\n",
    "    labels = labels.to(args.device)\n",
    "    loss = nn.CrossEntropyLoss()\n",
    "        \n",
    "    adv_images = images.clone().detach()\n",
    "    original_inputs_numpy = images.clone().cpu().detach().numpy()\n",
    "        \n",
    "    for i in range(iters) :\n",
    "        adv_images.requires_grad = True\n",
    "        # adv_images = adv_images.to(args.device)\n",
    "        \n",
    "        # Classifier part\n",
    "        outputs = model(adv_images)\n",
    "\n",
    "        model.zero_grad()\n",
    "        cost = loss(outputs, labels).to(args.device)\n",
    "        cost.backward()\n",
    "\n",
    "        # # Perturb original image\n",
    "        # adv_images = images + alpha*images.grad.sign()\n",
    "\n",
    "        # # Adjust semantics\n",
    "        # adv_images = adv_images.detach_()\n",
    "        # adv_images.requires_grad = True\n",
    "        # recon_images, _ = ae_model(adv_images)\n",
    "        # ae_model.zero_grad()\n",
    "\n",
    "        # Calculate grad w.r.t classifier\n",
    "        grad_classifier = adv_images.grad.cpu().detach()\n",
    "\n",
    "        # Autoencoder part\n",
    "        adv_images.grad = None\n",
    "        recon_images, _ = ae_model(adv_images)\n",
    "        ae_model.zero_grad()\n",
    "\n",
    "        mse_loss = F.mse_loss(adv_images, recon_images).to(args.device)\n",
    "        mse_loss.backward()\n",
    "\n",
    "        # Calculate grad w.r.t autoencoder\n",
    "        grad_autoencoder = adv_images.grad.cpu().detach()\n",
    "\n",
    "        # Check if the attack is successful\n",
    "        has_attack_succeeded = (outputs.cpu().detach().numpy().argmax(1)!=labels.cpu().numpy())\n",
    "\n",
    "        # Combine grads (Selective Gradient Descent)\n",
    "        # print(grad_classifier.shape, has_attack_succeeded.shape)\n",
    "        grad = grad_classifier * (1-has_attack_succeeded) - grad_autoencoder * has_attack_succeeded\n",
    "\n",
    "        # Add semantic perturbation\n",
    "        # adv_examples = adv_images - s_alpha * sign_data_grad\n",
    "\n",
    "        # Apply combined perturbation\n",
    "        sign_grad = torch.sign(grad).to(torch.float32).to(args.device)\n",
    "        adv_images = adv_images.detach() + alpha * sign_grad\n",
    "\n",
    "        eta = torch.clamp(adv_images - torch.tensor(original_inputs_numpy).to(args.device), min=-eps, max=eps)\n",
    "        adv_images = torch.clamp(torch.tensor(original_inputs_numpy).to(args.device) + eta, min=0, max=1).detach()\n",
    "            \n",
    "    return adv_images"
   ]
  },
  {
   "cell_type": "code",
   "execution_count": 208,
   "metadata": {},
   "outputs": [
    {
     "name": "stdout",
     "output_type": "stream",
     "text": [
      "Accuracy of test text: 0.000000 %\n",
      "Accuracy of test text: 36.363636 %\n"
     ]
    },
    {
     "data": {
      "image/png": "[encoded data removed]",
      "text/plain": [
       "<Figure size 2000x1000 with 5 Axes>"
      ]
     },
     "metadata": {},
     "output_type": "display_data"
    }
   ],
   "source": [
    "pgd_correct = 0\n",
    "spgd_correct = 0\n",
    "total = 0\n",
    "for i, (images, labels) in enumerate(valid_dataloader):\n",
    "    labels = labels.to(args.device)\n",
    "    images = images.to(args.device)\n",
    "\n",
    "    pgd_adv_images = pgd_attack(classifier_model, images, labels)\n",
    "    spgd_adv_images = semantic_pgd_attack(classifier_model, autoencoder_model, images, labels)\n",
    "    \n",
    "    pgd_outputs = classifier_model(pgd_adv_images)\n",
    "    spgd_outputs = classifier_model(spgd_adv_images)\n",
    "    \n",
    "    _, pgd_pre = torch.max(pgd_outputs.data, 1)\n",
    "    _, spgd_pre = torch.max(spgd_outputs.data, 1)\n",
    "\n",
    "    total += 1\n",
    "    pgd_correct += (pgd_pre == labels).sum()\n",
    "    spgd_correct += (spgd_pre == labels).sum()\n",
    "    if i == 10:\n",
    "        break\n",
    "    \n",
    "    # plt.imshow(torchvision.utils.make_grid(images.cpu().data, normalize=True), [normal_data.classes[i] for i in pre])\n",
    "    \n",
    "print('Accuracy of test text: %f %%' % (100 * float(pgd_correct) / (total)))\n",
    "print('Accuracy of test text: %f %%' % (100 * float(spgd_correct) / (total)))\n",
    "\n",
    "plot_adversarial_images(images, pgd_adv_images, spgd_adv_images)"
   ]
  },
  {
   "cell_type": "code",
   "execution_count": null,
   "metadata": {},
   "outputs": [],
   "source": []
  }
 ],
 "metadata": {
  "kernelspec": {
   "display_name": "Python 3.8.15 ('py38')",
   "language": "python",
   "name": "python3"
  },
  "language_info": {
   "codemirror_mode": {
    "name": "ipython",
    "version": 3
   },
   "file_extension": ".py",
   "mimetype": "text/x-python",
   "name": "python",
   "nbconvert_exporter": "python",
   "pygments_lexer": "ipython3",
   "version": "3.8.15"
  },
  "orig_nbformat": 4,
  "vscode": {
   "interpreter": {
    "hash": "b39706cd669bce428b01e7d8e16fbcdbe71050c908092321457055cd8ee4a18a"
   }
  }
 },
 "nbformat": 4,
 "nbformat_minor": 2
}
